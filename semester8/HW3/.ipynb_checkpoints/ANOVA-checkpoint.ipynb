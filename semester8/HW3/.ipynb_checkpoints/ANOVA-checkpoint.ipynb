{
 "cells": [
  {
   "cell_type": "code",
   "execution_count": 132,
   "metadata": {},
   "outputs": [],
   "source": [
    "library(dplyr)\n",
    "library(ggplot2)\n",
    "library(doBy)"
   ]
  },
  {
   "cell_type": "markdown",
   "metadata": {},
   "source": [
    "# Диспресионный анализ\n",
    "## Фахртдинов Тимур"
   ]
  },
  {
   "cell_type": "code",
   "execution_count": 133,
   "metadata": {},
   "outputs": [],
   "source": [
    "data <-read.csv(\"baseMA.csv\", sep = \";\")\n",
    "data <- data.frame(Sex = as.factor(data$Sex), therapy = as.factor(data$therapy), Dur.in.hosp = data$Duration.in.hosp)\n",
    "data <- na.omit(data)"
   ]
  },
  {
   "cell_type": "markdown",
   "metadata": {},
   "source": [
    "О наборе данных:\n",
    "Данные о недоношенных младенцах, у которых вовремя не закрылся артериальный проток.\n",
    "\n",
    "В этом задании я буду анализировать время нахождения в больнице в зависимости от двух факторов: пол (1 - муж, 2 - жен) и вид лечения (1 — операция, 2 — лечение + операция, 3 — медикаментозное лечение)."
   ]
  },
  {
   "cell_type": "markdown",
   "metadata": {},
   "source": [
    "### Двуфакторный дисперсионный анализ\n",
    "\n",
    "$x_{ijk} = \\mu + \\alpha_i + \\beta_j + (\\alpha \\beta)_{ij} + e_{ijk}$\n",
    "\n",
    "$\\mu$ - генеральное среднее, <br>\n",
    "$\\alpha_i$ -дифференциальный эффект фактора 𝐴, <br>\n",
    "$\\beta_j$ - дифференциальный эффект фактора 𝐵. \n",
    "\n",
    "Величина $(\\alpha \\beta)_{ij}$ называется взаимодействием факторов. Эта\n",
    "величина учитывает дифференциальный эффект комбинаций $i$-го уровня\n",
    "фактора 𝐴 и $j$-го уровня фактора 𝐵, если он не выражается суммой $\\alpha_i + \\beta_j + \\mu$.\n",
    "\n",
    "$e_{ijk}$ - ошибки, предполагаются независимыми и нормально распределенными, при ограничение на параметры:<br>\n",
    "$\\sum \\alpha_i = 0 \\;\\;\\; \\sum \\beta_j = 0$ <br>\n",
    "$\\sum_i (\\alpha \\beta)_{ij} = 0 \\;\\;\\; \\sum_j (\\alpha \\beta)_{ij} = 0$\n",
    "\n",
    "Оцеками параметров указаной модели являются:\n",
    "\n",
    "$\\hat \\mu = \\bar x$ - общее среднее.<br>\n",
    "$\\hat \\alpha_i = \\bar x_{i \\cdot} - \\bar x$, где $\\bar x_{i \\cdot}$ - среднее по $i$-му значению фактора $A$. <br>\n",
    "$\\hat \\beta_j = \\bar x_{\\cdot j} - \\bar x$, где $\\bar x_{\\cdot j}$ - среднее по $j$-му значению фактора $B$. <br>\n",
    "$\\hat{(\\alpha \\beta)_{ij} = \\bar x_{ij\\cdot} - \\bar x_{i\\cdot} - \\bar x_{\\cdot j}}$, где $\\bar x_{ij\\cdot}$ - среднее в ячейке $ij$<br>"
   ]
  },
  {
   "cell_type": "code",
   "execution_count": 159,
   "metadata": {},
   "outputs": [
    {
     "name": "stdout",
     "output_type": "stream",
     "text": [
      "[1] 41\n",
      "[1] 31\n",
      "[1] 30\n",
      "[1] 24\n",
      "[1] 7\n",
      "[1] 13\n"
     ]
    }
   ],
   "source": [
    "print(length(data$Dur.in.hosp[which(data$Sex==1 & data$therapy==1)]))\n",
    "print(length(data$Dur.in.hosp[which(data$Sex==1 & data$therapy==2)]))\n",
    "print(length(data$Dur.in.hosp[which(data$Sex==1 & data$therapy==3)]))\n",
    "print(length(data$Dur.in.hosp[which(data$Sex==2 & data$therapy==1)]))\n",
    "print(length(data$Dur.in.hosp[which(data$Sex==2 & data$therapy==2)]))\n",
    "print(length(data$Dur.in.hosp[which(data$Sex==2 & data$therapy==3)]))"
   ]
  },
  {
   "cell_type": "markdown",
   "metadata": {},
   "source": [
    "Для разных комбинаций факторов $A$, $B$ - минимальное количество повторений в группе 7, поэтому будет рассматривать $K = 7$."
   ]
  },
  {
   "cell_type": "code",
   "execution_count": 160,
   "metadata": {},
   "outputs": [],
   "source": [
    "x11 <- data$Dur.in.hosp[which(data$Sex==1 & data$therapy==1)][1:7]\n",
    "x12 <- data$Dur.in.hosp[which(data$Sex==1 & data$therapy==2)][1:7]\n",
    "x13 <- data$Dur.in.hosp[which(data$Sex==1 & data$therapy==3)][1:7]\n",
    "x21 <- data$Dur.in.hosp[which(data$Sex==2 & data$therapy==1)][1:7]\n",
    "x22 <- data$Dur.in.hosp[which(data$Sex==2 & data$therapy==2)][1:7]\n",
    "x23 <- data$Dur.in.hosp[which(data$Sex==2 & data$therapy==3)][1:7]"
   ]
  },
  {
   "cell_type": "code",
   "execution_count": 161,
   "metadata": {},
   "outputs": [],
   "source": [
    "h.mu <- mean(c(x11, x12, x13, x21, x22, x23))\n",
    "h.alpha1 <- mean(c(x11, x12, x13))\n",
    "h.alpha2 <- mean(c(x21, x22, x23)) \n",
    "h.alpha <- c(h.alpha1, h.alpha2)\n",
    "\n",
    "h.beta1 <- mean(c(x11, x21)) \n",
    "h.beta2 <- mean(c(x12, x22)) \n",
    "h.beta3 <- mean(c(x13, x23)) \n",
    "h.beta <- c(h.beta1, h.beta2, h.beta3)\n",
    "\n",
    "h.ab11 <- mean(x11) \n",
    "h.ab12 <- mean(x12)\n",
    "h.ab13 <- mean(x13) \n",
    "\n",
    "h.ab21 <- mean(x21) \n",
    "h.ab22 <- mean(x22) \n",
    "h.ab23 <- mean(x23) \n",
    "\n",
    "h.ab <- c(h.ab11, h.ab12, h.ab13, h.ab21, h.ab22, h.ab23)\n",
    "h.ab <- matrix(h.ab, nrow = 2, byrow = TRUE)"
   ]
  },
  {
   "cell_type": "code",
   "execution_count": 162,
   "metadata": {},
   "outputs": [
    {
     "name": "stdout",
     "output_type": "stream",
     "text": [
      "[1] 75.95238 78.09524\n",
      "[1] 93.71429 82.64286 54.71429\n",
      "          [,1]     [,2]     [,3]\n",
      "[1,] 109.71429 67.00000 51.14286\n",
      "[2,]  77.71429 98.28571 58.28571\n"
     ]
    }
   ],
   "source": [
    "print(h.alpha)\n",
    "print(h.beta)\n",
    "print(h.ab)"
   ]
  },
  {
   "cell_type": "markdown",
   "metadata": {},
   "source": [
    "Сравниваем со значением встроенной функции и убеждаемся, что полученные значения совпадают:"
   ]
  },
  {
   "cell_type": "code",
   "execution_count": 173,
   "metadata": {},
   "outputs": [
    {
     "name": "stdout",
     "output_type": "stream",
     "text": [
      "'data.frame':\t146 obs. of  3 variables:\n",
      " $ Sex        : Factor w/ 2 levels \"1\",\"2\": 1 1 2 1 2 2 2 1 2 1 ...\n",
      " $ therapy    : Factor w/ 3 levels \"1\",\"2\",\"3\": 3 3 3 2 3 3 3 3 3 3 ...\n",
      " $ Dur.in.hosp: int  82 44 51 61 96 96 26 31 36 60 ...\n",
      " - attr(*, \"na.action\")= 'omit' Named int  41 64 79 126 140 144 148 152 155 156\n",
      "  ..- attr(*, \"names\")= chr  \"41\" \"64\" \"79\" \"126\" ...\n"
     ]
    },
    {
     "data": {
      "text/html": [
       "<table>\n",
       "<caption>A data.frame: 6 × 5</caption>\n",
       "<thead>\n",
       "\t<tr><th></th><th scope=col>Sex</th><th scope=col>therapy</th><th scope=col>Dur.in.hosp.mean</th><th scope=col>Dur.in.hosp.sd</th><th scope=col>Dur.in.hosp.length</th></tr>\n",
       "\t<tr><th></th><th scope=col>&lt;fct&gt;</th><th scope=col>&lt;fct&gt;</th><th scope=col>&lt;dbl&gt;</th><th scope=col>&lt;dbl&gt;</th><th scope=col>&lt;dbl&gt;</th></tr>\n",
       "</thead>\n",
       "<tbody>\n",
       "\t<tr><th scope=row>1</th><td>1</td><td>1</td><td>109.71429</td><td>23.91453</td><td>7</td></tr>\n",
       "\t<tr><th scope=row>2</th><td>1</td><td>2</td><td> 67.00000</td><td>28.32549</td><td>7</td></tr>\n",
       "\t<tr><th scope=row>3</th><td>1</td><td>3</td><td> 51.14286</td><td>18.69428</td><td>7</td></tr>\n",
       "\t<tr><th scope=row>4</th><td>2</td><td>1</td><td> 77.71429</td><td>44.91738</td><td>7</td></tr>\n",
       "\t<tr><th scope=row>5</th><td>2</td><td>2</td><td> 98.28571</td><td>60.99375</td><td>7</td></tr>\n",
       "\t<tr><th scope=row>6</th><td>2</td><td>3</td><td> 58.28571</td><td>27.47553</td><td>7</td></tr>\n",
       "</tbody>\n",
       "</table>\n"
      ],
      "text/latex": [
       "A data.frame: 6 × 5\n",
       "\\begin{tabular}{r|lllll}\n",
       "  & Sex & therapy & Dur.in.hosp.mean & Dur.in.hosp.sd & Dur.in.hosp.length\\\\\n",
       "  & <fct> & <fct> & <dbl> & <dbl> & <dbl>\\\\\n",
       "\\hline\n",
       "\t1 & 1 & 1 & 109.71429 & 23.91453 & 7\\\\\n",
       "\t2 & 1 & 2 &  67.00000 & 28.32549 & 7\\\\\n",
       "\t3 & 1 & 3 &  51.14286 & 18.69428 & 7\\\\\n",
       "\t4 & 2 & 1 &  77.71429 & 44.91738 & 7\\\\\n",
       "\t5 & 2 & 2 &  98.28571 & 60.99375 & 7\\\\\n",
       "\t6 & 2 & 3 &  58.28571 & 27.47553 & 7\\\\\n",
       "\\end{tabular}\n"
      ],
      "text/markdown": [
       "\n",
       "A data.frame: 6 × 5\n",
       "\n",
       "| <!--/--> | Sex &lt;fct&gt; | therapy &lt;fct&gt; | Dur.in.hosp.mean &lt;dbl&gt; | Dur.in.hosp.sd &lt;dbl&gt; | Dur.in.hosp.length &lt;dbl&gt; |\n",
       "|---|---|---|---|---|---|\n",
       "| 1 | 1 | 1 | 109.71429 | 23.91453 | 7 |\n",
       "| 2 | 1 | 2 |  67.00000 | 28.32549 | 7 |\n",
       "| 3 | 1 | 3 |  51.14286 | 18.69428 | 7 |\n",
       "| 4 | 2 | 1 |  77.71429 | 44.91738 | 7 |\n",
       "| 5 | 2 | 2 |  98.28571 | 60.99375 | 7 |\n",
       "| 6 | 2 | 3 |  58.28571 | 27.47553 | 7 |\n",
       "\n"
      ],
      "text/plain": [
       "  Sex therapy Dur.in.hosp.mean Dur.in.hosp.sd Dur.in.hosp.length\n",
       "1 1   1       109.71429        23.91453       7                 \n",
       "2 1   2        67.00000        28.32549       7                 \n",
       "3 1   3        51.14286        18.69428       7                 \n",
       "4 2   1        77.71429        44.91738       7                 \n",
       "5 2   2        98.28571        60.99375       7                 \n",
       "6 2   3        58.28571        27.47553       7                 "
      ]
     },
     "metadata": {},
     "output_type": "display_data"
    }
   ],
   "source": [
    "summaryBy(Dur.in.hosp ~ Sex * therapy, data = data2, FUN = c(mean, sd, length))"
   ]
  },
  {
   "cell_type": "code",
   "execution_count": 163,
   "metadata": {},
   "outputs": [],
   "source": [
    "data2 <- data.frame(therapy = c(rep(1, 7), rep(2, 7), rep(3, 7), rep(1, 7), rep(2, 7), rep(3, 7)),\n",
    "           Sex = c(rep(1, 21), rep(2, 21)),\n",
    "           Dur.in.hosp = c(x11, x12, x13, x21, x22, x23))\n",
    "data2$therapy <- as.factor(data2$therapy)\n",
    "data2$Sex <- as.factor(data2$Sex)"
   ]
  },
  {
   "cell_type": "markdown",
   "metadata": {},
   "source": [
    "Следующие статистики строятся по правилам указаным на странице 62:"
   ]
  },
  {
   "cell_type": "code",
   "execution_count": 175,
   "metadata": {},
   "outputs": [],
   "source": [
    "I = 2\n",
    "J = 3\n",
    "K = 7\n",
    "\n",
    "Q_A <- J * K * sum((h.alpha - h.mu)^2)\n",
    "Q_B <- I * K * sum((h.beta - h.mu)^2)\n",
    "\n",
    "Q_AB <- 0\n",
    "Q_R <- 0\n",
    "for (i in 1:I){\n",
    "    for(j in 1:J){\n",
    "        Q_AB <- Q_AB + (h.ab[i, j] - h.alpha[i] - h.beta[j] + h.mu)^2\n",
    "        Q_R <- Q_R + sum((data2$Dur.in.hosp[which(data2$Sex==i & data2$therapy==j)] - h.ab[i, j])^2)\n",
    "    }\n",
    "}\n",
    "Q_AB <- Q_AB * K"
   ]
  },
  {
   "cell_type": "code",
   "execution_count": 176,
   "metadata": {},
   "outputs": [
    {
     "data": {
      "text/html": [
       "0.852213659342701"
      ],
      "text/latex": [
       "0.852213659342701"
      ],
      "text/markdown": [
       "0.852213659342701"
      ],
      "text/plain": [
       "[1] 0.8522137"
      ]
     },
     "metadata": {},
     "output_type": "display_data"
    },
    {
     "data": {
      "text/html": [
       "0.0242884064552131"
      ],
      "text/latex": [
       "0.0242884064552131"
      ],
      "text/markdown": [
       "0.0242884064552131"
      ],
      "text/plain": [
       "[1] 0.02428841"
      ]
     },
     "metadata": {},
     "output_type": "display_data"
    },
    {
     "data": {
      "text/html": [
       "0.000267574604027265"
      ],
      "text/latex": [
       "0.000267574604027265"
      ],
      "text/markdown": [
       "0.000267574604027265"
      ],
      "text/plain": [
       "[1] 0.0002675746"
      ]
     },
     "metadata": {},
     "output_type": "display_data"
    }
   ],
   "source": [
    "MQ_A <- Q_A / (I - 1)\n",
    "MQ_B <- Q_B / (J - 1)\n",
    "MQ_AB <- Q_AB / (I - 1) * (J - 1)\n",
    "MQ_R <- Q_R / (I * J * (K - 1))\n",
    "\n",
    "F_A <- MQ_A / MQ_R\n",
    "F_B <- MQ_B / MQ_R\n",
    "F_AB <- MQ_AB / MQ_R\n",
    "\n",
    "1 - pf(F_A, I - 1, I * J * (K - 1))\n",
    "1 - pf(F_B, J - 1, I * J * (K - 1))\n",
    "1 - pf(F_AB, (I - 1) * (J - 1), I * J * (K - 1))"
   ]
  },
  {
   "cell_type": "markdown",
   "metadata": {},
   "source": [
    "Сравниваем со значением встроенной функции и убеждаемся, что полученные значения совпадают:"
   ]
  },
  {
   "cell_type": "code",
   "execution_count": 177,
   "metadata": {},
   "outputs": [
    {
     "data": {
      "text/plain": [
       "            Df Sum Sq Mean Sq F value Pr(>F)  \n",
       "therapy      2  11310    5655   4.130 0.0243 *\n",
       "Sex          1     48      48   0.035 0.8522  \n",
       "therapy:Sex  2   7140    3570   2.607 0.0876 .\n",
       "Residuals   36  49299    1369                 \n",
       "---\n",
       "Signif. codes:  0 '***' 0.001 '**' 0.01 '*' 0.05 '.' 0.1 ' ' 1"
      ]
     },
     "metadata": {},
     "output_type": "display_data"
    }
   ],
   "source": [
    "M1 <- aov(Dur.in.hosp ~ therapy * Sex, data = data2)\n",
    "summary(M1)"
   ]
  },
  {
   "cell_type": "markdown",
   "metadata": {},
   "source": [
    "Из полученных результатов заключаем, что гипотеза:\n",
    "\n",
    "$H_0$: Все $(\\alpha \\beta)_{ij}$ = 0 отвергается\n",
    "\n",
    "А  следующие гипотезы у нас нет причин отклонять:\n",
    "\n",
    "$H_0$: Все $\\alpha_i$ = 0<br>\n",
    "$H_0$: Все $\\beta_j$ = 0<br>"
   ]
  }
 ],
 "metadata": {
  "kernelspec": {
   "display_name": "R",
   "language": "R",
   "name": "ir"
  },
  "language_info": {
   "codemirror_mode": "r",
   "file_extension": ".r",
   "mimetype": "text/x-r-source",
   "name": "R",
   "pygments_lexer": "r",
   "version": "3.6.3"
  }
 },
 "nbformat": 4,
 "nbformat_minor": 4
}
