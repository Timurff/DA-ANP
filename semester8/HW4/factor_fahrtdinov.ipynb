{
 "cells": [
  {
   "cell_type": "code",
   "execution_count": 31,
   "metadata": {},
   "outputs": [
    {
     "name": "stderr",
     "output_type": "stream",
     "text": [
      "Loading required package: ggplot2\n",
      "\n",
      "Welcome! Want to learn more? See two factoextra-related books at https://goo.gl/ve3WBa\n",
      "\n",
      "Loading required package: lattice\n",
      "\n"
     ]
    }
   ],
   "source": [
    "library(dplyr) \n",
    "library(factoextra) \n",
    "library(caret)"
   ]
  },
  {
   "cell_type": "markdown",
   "metadata": {},
   "source": [
    "# Факторный анализ \n",
    "## Фахртдинов Тимур"
   ]
  },
  {
   "cell_type": "markdown",
   "metadata": {},
   "source": [
    "О наборе данных:<br>\n",
    "Данные о недоношенных младенцах, у которых вовремя не закрылся артериальный проток.\n",
    "\n",
    "Рассмотрим 4 независимые переменные:<br>\n",
    "**O2 1** -- Насыщение крови кислородом до.<br>\n",
    "**O2 2** -- Насыщение крови кислородом после.<br>\n",
    "**PA1** -- Артериальное давление до.<br>\n",
    "**PA2** -- Артериальное давление после.<br>"
   ]
  },
  {
   "cell_type": "code",
   "execution_count": 24,
   "metadata": {},
   "outputs": [],
   "source": [
    "data <-read.csv(\"baseMA.csv\", sep = \";\")\n",
    "data <- data.frame(data$O2.1, data$O2.2, data$PA1, data$PA2)\n",
    "data <- na.omit(data)"
   ]
  },
  {
   "cell_type": "markdown",
   "metadata": {},
   "source": [
    "Ищем коэффициенты главных компонент\n",
    "\n",
    "$Y_j = A^{T}_j X = \\sum_{i = 1}^k \\alpha_{ij}X_i$"
   ]
  },
  {
   "cell_type": "code",
   "execution_count": 36,
   "metadata": {},
   "outputs": [
    {
     "data": {
      "text/html": [
       "<table>\n",
       "<caption>A matrix: 6 × 4 of type dbl</caption>\n",
       "<tbody>\n",
       "\t<tr><th scope=row>1</th><td>-0.7139358</td><td>-0.2703558</td><td> 0.33073608</td><td>-0.1980811</td></tr>\n",
       "\t<tr><th scope=row>2</th><td>-0.1981581</td><td>-0.6917187</td><td>-0.55081640</td><td> 1.3268963</td></tr>\n",
       "\t<tr><th scope=row>5</th><td>-0.3317636</td><td> 0.8013227</td><td> 2.21677700</td><td>-0.2662600</td></tr>\n",
       "\t<tr><th scope=row>6</th><td>-1.0701976</td><td> 0.4861400</td><td> 0.27973997</td><td> 0.1666988</td></tr>\n",
       "\t<tr><th scope=row>7</th><td>-0.7366246</td><td> 1.5821543</td><td> 0.02170634</td><td> 0.3733386</td></tr>\n",
       "\t<tr><th scope=row>8</th><td>-0.9408384</td><td>-0.5004720</td><td>-0.10722609</td><td> 0.4986809</td></tr>\n",
       "</tbody>\n",
       "</table>\n"
      ],
      "text/latex": [
       "A matrix: 6 × 4 of type dbl\n",
       "\\begin{tabular}{r|llll}\n",
       "\t1 & -0.7139358 & -0.2703558 &  0.33073608 & -0.1980811\\\\\n",
       "\t2 & -0.1981581 & -0.6917187 & -0.55081640 &  1.3268963\\\\\n",
       "\t5 & -0.3317636 &  0.8013227 &  2.21677700 & -0.2662600\\\\\n",
       "\t6 & -1.0701976 &  0.4861400 &  0.27973997 &  0.1666988\\\\\n",
       "\t7 & -0.7366246 &  1.5821543 &  0.02170634 &  0.3733386\\\\\n",
       "\t8 & -0.9408384 & -0.5004720 & -0.10722609 &  0.4986809\\\\\n",
       "\\end{tabular}\n"
      ],
      "text/markdown": [
       "\n",
       "A matrix: 6 × 4 of type dbl\n",
       "\n",
       "| 1 | -0.7139358 | -0.2703558 |  0.33073608 | -0.1980811 |\n",
       "| 2 | -0.1981581 | -0.6917187 | -0.55081640 |  1.3268963 |\n",
       "| 5 | -0.3317636 |  0.8013227 |  2.21677700 | -0.2662600 |\n",
       "| 6 | -1.0701976 |  0.4861400 |  0.27973997 |  0.1666988 |\n",
       "| 7 | -0.7366246 |  1.5821543 |  0.02170634 |  0.3733386 |\n",
       "| 8 | -0.9408384 | -0.5004720 | -0.10722609 |  0.4986809 |\n",
       "\n"
      ],
      "text/plain": [
       "  [,1]       [,2]       [,3]        [,4]      \n",
       "1 -0.7139358 -0.2703558  0.33073608 -0.1980811\n",
       "2 -0.1981581 -0.6917187 -0.55081640  1.3268963\n",
       "5 -0.3317636  0.8013227  2.21677700 -0.2662600\n",
       "6 -1.0701976  0.4861400  0.27973997  0.1666988\n",
       "7 -0.7366246  1.5821543  0.02170634  0.3733386\n",
       "8 -0.9408384 -0.5004720 -0.10722609  0.4986809"
      ]
     },
     "metadata": {},
     "output_type": "display_data"
    }
   ],
   "source": [
    "or_data <- data\n",
    "data <- scale(data)\n",
    "sigma <- cov(data)\n",
    "A <- eigen(sigma)$vectors\n",
    "Y <- data %*% A\n",
    "head(Y)"
   ]
  },
  {
   "cell_type": "markdown",
   "metadata": {},
   "source": [
    "Сравним результат с результатом встроенной функции:"
   ]
  },
  {
   "cell_type": "code",
   "execution_count": 15,
   "metadata": {},
   "outputs": [
    {
     "data": {
      "text/html": [
       "<table>\n",
       "<caption>A matrix: 6 × 4 of type dbl</caption>\n",
       "<thead>\n",
       "\t<tr><th></th><th scope=col>PC1</th><th scope=col>PC2</th><th scope=col>PC3</th><th scope=col>PC4</th></tr>\n",
       "</thead>\n",
       "<tbody>\n",
       "\t<tr><th scope=row>1</th><td>-0.7139358</td><td> 0.2703558</td><td>-0.33073608</td><td> 0.1980811</td></tr>\n",
       "\t<tr><th scope=row>2</th><td>-0.1981581</td><td> 0.6917187</td><td> 0.55081640</td><td>-1.3268963</td></tr>\n",
       "\t<tr><th scope=row>5</th><td>-0.3317636</td><td>-0.8013227</td><td>-2.21677700</td><td> 0.2662600</td></tr>\n",
       "\t<tr><th scope=row>6</th><td>-1.0701976</td><td>-0.4861400</td><td>-0.27973997</td><td>-0.1666988</td></tr>\n",
       "\t<tr><th scope=row>7</th><td>-0.7366246</td><td>-1.5821543</td><td>-0.02170634</td><td>-0.3733386</td></tr>\n",
       "\t<tr><th scope=row>8</th><td>-0.9408384</td><td> 0.5004720</td><td> 0.10722609</td><td>-0.4986809</td></tr>\n",
       "</tbody>\n",
       "</table>\n"
      ],
      "text/latex": [
       "A matrix: 6 × 4 of type dbl\n",
       "\\begin{tabular}{r|llll}\n",
       "  & PC1 & PC2 & PC3 & PC4\\\\\n",
       "\\hline\n",
       "\t1 & -0.7139358 &  0.2703558 & -0.33073608 &  0.1980811\\\\\n",
       "\t2 & -0.1981581 &  0.6917187 &  0.55081640 & -1.3268963\\\\\n",
       "\t5 & -0.3317636 & -0.8013227 & -2.21677700 &  0.2662600\\\\\n",
       "\t6 & -1.0701976 & -0.4861400 & -0.27973997 & -0.1666988\\\\\n",
       "\t7 & -0.7366246 & -1.5821543 & -0.02170634 & -0.3733386\\\\\n",
       "\t8 & -0.9408384 &  0.5004720 &  0.10722609 & -0.4986809\\\\\n",
       "\\end{tabular}\n"
      ],
      "text/markdown": [
       "\n",
       "A matrix: 6 × 4 of type dbl\n",
       "\n",
       "| <!--/--> | PC1 | PC2 | PC3 | PC4 |\n",
       "|---|---|---|---|---|\n",
       "| 1 | -0.7139358 |  0.2703558 | -0.33073608 |  0.1980811 |\n",
       "| 2 | -0.1981581 |  0.6917187 |  0.55081640 | -1.3268963 |\n",
       "| 5 | -0.3317636 | -0.8013227 | -2.21677700 |  0.2662600 |\n",
       "| 6 | -1.0701976 | -0.4861400 | -0.27973997 | -0.1666988 |\n",
       "| 7 | -0.7366246 | -1.5821543 | -0.02170634 | -0.3733386 |\n",
       "| 8 | -0.9408384 |  0.5004720 |  0.10722609 | -0.4986809 |\n",
       "\n"
      ],
      "text/plain": [
       "  PC1        PC2        PC3         PC4       \n",
       "1 -0.7139358  0.2703558 -0.33073608  0.1980811\n",
       "2 -0.1981581  0.6917187  0.55081640 -1.3268963\n",
       "5 -0.3317636 -0.8013227 -2.21677700  0.2662600\n",
       "6 -1.0701976 -0.4861400 -0.27973997 -0.1666988\n",
       "7 -0.7366246 -1.5821543 -0.02170634 -0.3733386\n",
       "8 -0.9408384  0.5004720  0.10722609 -0.4986809"
      ]
     },
     "metadata": {},
     "output_type": "display_data"
    }
   ],
   "source": [
    "head(prcomp(data)$x)"
   ]
  },
  {
   "cell_type": "markdown",
   "metadata": {},
   "source": [
    "Посмотрим на долю дисперсии, объясняемой каждой компонентой."
   ]
  },
  {
   "cell_type": "code",
   "execution_count": 32,
   "metadata": {},
   "outputs": [
    {
     "data": {
      "image/png": "[encoded data removed]",
      "text/plain": [
       "plot without title"
      ]
     },
     "metadata": {
      "image/png": {
       "height": 420,
       "width": 420
      },
      "text/plain": {
       "height": 420,
       "width": 420
      }
     },
     "output_type": "display_data"
    }
   ],
   "source": [
    "fviz_eig(prcomp(data))"
   ]
  },
  {
   "cell_type": "markdown",
   "metadata": {},
   "source": [
    "Найдем факторные нагрузки:\n",
    "\n",
    "$$\\beta_{ij} = \\frac{\\alpha_{ij} \\sqrt{\\lambda_j}}{\\sigma_i}$$"
   ]
  },
  {
   "cell_type": "code",
   "execution_count": 17,
   "metadata": {},
   "outputs": [
    {
     "data": {
      "text/html": [
       "<table>\n",
       "<caption>A matrix: 4 × 4 of type dbl</caption>\n",
       "<tbody>\n",
       "\t<tr><td>-0.88868391</td><td>-0.01978819</td><td>-0.1018347</td><td> 0.44663076</td></tr>\n",
       "\t<tr><td>-0.88349056</td><td>-0.10590914</td><td>-0.1040025</td><td>-0.44430975</td></tr>\n",
       "\t<tr><td> 0.03622878</td><td> 0.78585741</td><td>-0.6166925</td><td>-0.02838955</td></tr>\n",
       "\t<tr><td>-0.21767673</td><td> 0.64143663</td><td> 0.7352284</td><td>-0.02480107</td></tr>\n",
       "</tbody>\n",
       "</table>\n"
      ],
      "text/latex": [
       "A matrix: 4 × 4 of type dbl\n",
       "\\begin{tabular}{llll}\n",
       "\t -0.88868391 & -0.01978819 & -0.1018347 &  0.44663076\\\\\n",
       "\t -0.88349056 & -0.10590914 & -0.1040025 & -0.44430975\\\\\n",
       "\t  0.03622878 &  0.78585741 & -0.6166925 & -0.02838955\\\\\n",
       "\t -0.21767673 &  0.64143663 &  0.7352284 & -0.02480107\\\\\n",
       "\\end{tabular}\n"
      ],
      "text/markdown": [
       "\n",
       "A matrix: 4 × 4 of type dbl\n",
       "\n",
       "| -0.88868391 | -0.01978819 | -0.1018347 |  0.44663076 |\n",
       "| -0.88349056 | -0.10590914 | -0.1040025 | -0.44430975 |\n",
       "|  0.03622878 |  0.78585741 | -0.6166925 | -0.02838955 |\n",
       "| -0.21767673 |  0.64143663 |  0.7352284 | -0.02480107 |\n",
       "\n"
      ],
      "text/plain": [
       "     [,1]        [,2]        [,3]       [,4]       \n",
       "[1,] -0.88868391 -0.01978819 -0.1018347  0.44663076\n",
       "[2,] -0.88349056 -0.10590914 -0.1040025 -0.44430975\n",
       "[3,]  0.03622878  0.78585741 -0.6166925 -0.02838955\n",
       "[4,] -0.21767673  0.64143663  0.7352284 -0.02480107"
      ]
     },
     "metadata": {},
     "output_type": "display_data"
    }
   ],
   "source": [
    "beta <- matrix(0, nrow(A), nrow(A))\n",
    "for (i in 1:nrow(A)){\n",
    "    for (j in 1:nrow(A)){\n",
    "        beta[i, j] <- A[i, j] * sqrt(var(Y[, j])) / sd(data[, i])\n",
    "    }\n",
    "}\n",
    "beta"
   ]
  },
  {
   "cell_type": "markdown",
   "metadata": {},
   "source": [
    "Найдем факторы:\n",
    "\n",
    "$$G_j = \\frac{Y_j}{ \\sqrt{\\lambda_j}}$$"
   ]
  },
  {
   "cell_type": "code",
   "execution_count": 20,
   "metadata": {},
   "outputs": [
    {
     "data": {
      "text/html": [
       "<table>\n",
       "<caption>A matrix: 6 × 4 of type dbl</caption>\n",
       "<tbody>\n",
       "\t<tr><th scope=row>1</th><td>0.5610924</td><td>-0.2650265</td><td> 0.34075554</td><td>-0.3138570</td></tr>\n",
       "\t<tr><th scope=row>2</th><td>0.1557353</td><td>-0.6780835</td><td>-0.56750306</td><td> 2.1024501</td></tr>\n",
       "\t<tr><th scope=row>5</th><td>0.2607377</td><td> 0.7855270</td><td> 2.28393297</td><td>-0.4218855</td></tr>\n",
       "\t<tr><th scope=row>6</th><td>0.8410836</td><td> 0.4765572</td><td> 0.28821453</td><td> 0.2641322</td></tr>\n",
       "\t<tr><th scope=row>7</th><td>0.5789238</td><td> 1.5509669</td><td> 0.02236392</td><td> 0.5915502</td></tr>\n",
       "\t<tr><th scope=row>8</th><td>0.7394184</td><td>-0.4906067</td><td>-0.11047444</td><td> 0.7901535</td></tr>\n",
       "</tbody>\n",
       "</table>\n"
      ],
      "text/latex": [
       "A matrix: 6 × 4 of type dbl\n",
       "\\begin{tabular}{r|llll}\n",
       "\t1 & 0.5610924 & -0.2650265 &  0.34075554 & -0.3138570\\\\\n",
       "\t2 & 0.1557353 & -0.6780835 & -0.56750306 &  2.1024501\\\\\n",
       "\t5 & 0.2607377 &  0.7855270 &  2.28393297 & -0.4218855\\\\\n",
       "\t6 & 0.8410836 &  0.4765572 &  0.28821453 &  0.2641322\\\\\n",
       "\t7 & 0.5789238 &  1.5509669 &  0.02236392 &  0.5915502\\\\\n",
       "\t8 & 0.7394184 & -0.4906067 & -0.11047444 &  0.7901535\\\\\n",
       "\\end{tabular}\n"
      ],
      "text/markdown": [
       "\n",
       "A matrix: 6 × 4 of type dbl\n",
       "\n",
       "| 1 | 0.5610924 | -0.2650265 |  0.34075554 | -0.3138570 |\n",
       "| 2 | 0.1557353 | -0.6780835 | -0.56750306 |  2.1024501 |\n",
       "| 5 | 0.2607377 |  0.7855270 |  2.28393297 | -0.4218855 |\n",
       "| 6 | 0.8410836 |  0.4765572 |  0.28821453 |  0.2641322 |\n",
       "| 7 | 0.5789238 |  1.5509669 |  0.02236392 |  0.5915502 |\n",
       "| 8 | 0.7394184 | -0.4906067 | -0.11047444 |  0.7901535 |\n",
       "\n"
      ],
      "text/plain": [
       "  [,1]      [,2]       [,3]        [,4]      \n",
       "1 0.5610924 -0.2650265  0.34075554 -0.3138570\n",
       "2 0.1557353 -0.6780835 -0.56750306  2.1024501\n",
       "5 0.2607377  0.7855270  2.28393297 -0.4218855\n",
       "6 0.8410836  0.4765572  0.28821453  0.2641322\n",
       "7 0.5789238  1.5509669  0.02236392  0.5915502\n",
       "8 0.7394184 -0.4906067 -0.11047444  0.7901535"
      ]
     },
     "metadata": {},
     "output_type": "display_data"
    }
   ],
   "source": [
    "G <- apply(Y, 2, function(x) x / sd(x))\n",
    "head(G)"
   ]
  },
  {
   "cell_type": "markdown",
   "metadata": {},
   "source": [
    "Посмотрим на biplot:"
   ]
  },
  {
   "cell_type": "code",
   "execution_count": 37,
   "metadata": {},
   "outputs": [
    {
     "data": {
      "image/png": "[encoded data removed]",
      "text/plain": [
       "plot without title"
      ]
     },
     "metadata": {
      "image/png": {
       "height": 420,
       "width": 420
      },
      "text/plain": {
       "height": 420,
       "width": 420
      }
     },
     "output_type": "display_data"
    }
   ],
   "source": [
    "fviz_pca_biplot(prcomp(data), repel = TRUE)"
   ]
  },
  {
   "cell_type": "markdown",
   "metadata": {},
   "source": [
    "Восстановим признаки по формуле:\n",
    "\n",
    "$$X_i = \\sigma_i \\sum_{j = 1}^k \\beta_{ij}G_j$$"
   ]
  },
  {
   "cell_type": "code",
   "execution_count": 30,
   "metadata": {},
   "outputs": [
    {
     "data": {
      "text/html": [
       "<table>\n",
       "<caption>A matrix: 6 × 4 of type dbl</caption>\n",
       "<tbody>\n",
       "\t<tr><th scope=row>1</th><td>0.25</td><td>0.30</td><td>45</td><td>53</td></tr>\n",
       "\t<tr><th scope=row>2</th><td>0.45</td><td>0.21</td><td>47</td><td>43</td></tr>\n",
       "\t<tr><th scope=row>5</th><td>0.25</td><td>0.30</td><td>40</td><td>77</td></tr>\n",
       "\t<tr><th scope=row>6</th><td>0.25</td><td>0.21</td><td>53</td><td>57</td></tr>\n",
       "\t<tr><th scope=row>7</th><td>0.30</td><td>0.21</td><td>66</td><td>63</td></tr>\n",
       "\t<tr><th scope=row>8</th><td>0.30</td><td>0.21</td><td>46</td><td>47</td></tr>\n",
       "</tbody>\n",
       "</table>\n"
      ],
      "text/latex": [
       "A matrix: 6 × 4 of type dbl\n",
       "\\begin{tabular}{r|llll}\n",
       "\t1 & 0.25 & 0.30 & 45 & 53\\\\\n",
       "\t2 & 0.45 & 0.21 & 47 & 43\\\\\n",
       "\t5 & 0.25 & 0.30 & 40 & 77\\\\\n",
       "\t6 & 0.25 & 0.21 & 53 & 57\\\\\n",
       "\t7 & 0.30 & 0.21 & 66 & 63\\\\\n",
       "\t8 & 0.30 & 0.21 & 46 & 47\\\\\n",
       "\\end{tabular}\n"
      ],
      "text/markdown": [
       "\n",
       "A matrix: 6 × 4 of type dbl\n",
       "\n",
       "| 1 | 0.25 | 0.30 | 45 | 53 |\n",
       "| 2 | 0.45 | 0.21 | 47 | 43 |\n",
       "| 5 | 0.25 | 0.30 | 40 | 77 |\n",
       "| 6 | 0.25 | 0.21 | 53 | 57 |\n",
       "| 7 | 0.30 | 0.21 | 66 | 63 |\n",
       "| 8 | 0.30 | 0.21 | 46 | 47 |\n",
       "\n"
      ],
      "text/plain": [
       "  [,1] [,2] [,3] [,4]\n",
       "1 0.25 0.30 45   53  \n",
       "2 0.45 0.21 47   43  \n",
       "5 0.25 0.30 40   77  \n",
       "6 0.25 0.21 53   57  \n",
       "7 0.30 0.21 66   63  \n",
       "8 0.30 0.21 46   47  "
      ]
     },
     "metadata": {},
     "output_type": "display_data"
    },
    {
     "data": {
      "text/html": [
       "<table>\n",
       "<caption>A data.frame: 6 × 4</caption>\n",
       "<thead>\n",
       "\t<tr><th></th><th scope=col>data.O2.1</th><th scope=col>data.O2.2</th><th scope=col>data.PA1</th><th scope=col>data.PA2</th></tr>\n",
       "\t<tr><th></th><th scope=col>&lt;dbl&gt;</th><th scope=col>&lt;dbl&gt;</th><th scope=col>&lt;int&gt;</th><th scope=col>&lt;int&gt;</th></tr>\n",
       "</thead>\n",
       "<tbody>\n",
       "\t<tr><th scope=row>1</th><td>0.25</td><td>0.30</td><td>45</td><td>53</td></tr>\n",
       "\t<tr><th scope=row>2</th><td>0.45</td><td>0.21</td><td>47</td><td>43</td></tr>\n",
       "\t<tr><th scope=row>5</th><td>0.25</td><td>0.30</td><td>40</td><td>77</td></tr>\n",
       "\t<tr><th scope=row>6</th><td>0.25</td><td>0.21</td><td>53</td><td>57</td></tr>\n",
       "\t<tr><th scope=row>7</th><td>0.30</td><td>0.21</td><td>66</td><td>63</td></tr>\n",
       "\t<tr><th scope=row>8</th><td>0.30</td><td>0.21</td><td>46</td><td>47</td></tr>\n",
       "</tbody>\n",
       "</table>\n"
      ],
      "text/latex": [
       "A data.frame: 6 × 4\n",
       "\\begin{tabular}{r|llll}\n",
       "  & data.O2.1 & data.O2.2 & data.PA1 & data.PA2\\\\\n",
       "  & <dbl> & <dbl> & <int> & <int>\\\\\n",
       "\\hline\n",
       "\t1 & 0.25 & 0.30 & 45 & 53\\\\\n",
       "\t2 & 0.45 & 0.21 & 47 & 43\\\\\n",
       "\t5 & 0.25 & 0.30 & 40 & 77\\\\\n",
       "\t6 & 0.25 & 0.21 & 53 & 57\\\\\n",
       "\t7 & 0.30 & 0.21 & 66 & 63\\\\\n",
       "\t8 & 0.30 & 0.21 & 46 & 47\\\\\n",
       "\\end{tabular}\n"
      ],
      "text/markdown": [
       "\n",
       "A data.frame: 6 × 4\n",
       "\n",
       "| <!--/--> | data.O2.1 &lt;dbl&gt; | data.O2.2 &lt;dbl&gt; | data.PA1 &lt;int&gt; | data.PA2 &lt;int&gt; |\n",
       "|---|---|---|---|---|\n",
       "| 1 | 0.25 | 0.30 | 45 | 53 |\n",
       "| 2 | 0.45 | 0.21 | 47 | 43 |\n",
       "| 5 | 0.25 | 0.30 | 40 | 77 |\n",
       "| 6 | 0.25 | 0.21 | 53 | 57 |\n",
       "| 7 | 0.30 | 0.21 | 66 | 63 |\n",
       "| 8 | 0.30 | 0.21 | 46 | 47 |\n",
       "\n"
      ],
      "text/plain": [
       "  data.O2.1 data.O2.2 data.PA1 data.PA2\n",
       "1 0.25      0.30      45       53      \n",
       "2 0.45      0.21      47       43      \n",
       "5 0.25      0.30      40       77      \n",
       "6 0.25      0.21      53       57      \n",
       "7 0.30      0.21      66       63      \n",
       "8 0.30      0.21      46       47      "
      ]
     },
     "metadata": {},
     "output_type": "display_data"
    }
   ],
   "source": [
    "X_rec <- c()\n",
    "for (i in 1:ncol(beta)){\n",
    "    G_rec <- numeric(nrow(data))\n",
    "    for (j in 1:ncol(beta)){\n",
    "        G_rec <- G_rec + beta[i, j] * G[, j]\n",
    "    }\n",
    "    X_rec <- cbind(X_rec, (sd(data[, i]) * G_rec * sd(or_data[, i]) + mean(or_data[, i])))\n",
    "}\n",
    "head(X_rec)\n",
    "head(or_data)"
   ]
  }
 ],
 "metadata": {
  "kernelspec": {
   "display_name": "R",
   "language": "R",
   "name": "ir"
  },
  "language_info": {
   "codemirror_mode": "r",
   "file_extension": ".r",
   "mimetype": "text/x-r-source",
   "name": "R",
   "pygments_lexer": "r",
   "version": "3.6.3"
  }
 },
 "nbformat": 4,
 "nbformat_minor": 4
}
