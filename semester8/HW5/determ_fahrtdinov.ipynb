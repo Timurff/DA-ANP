{
 "cells": [
  {
   "cell_type": "code",
   "execution_count": 47,
   "metadata": {},
   "outputs": [],
   "source": [
    "library(dplyr)\n",
    "library(caret)\n",
    "library(MASS)"
   ]
  },
  {
   "cell_type": "markdown",
   "metadata": {},
   "source": [
    "# Дискриминантный анализ \n",
    "## Фахртдинов Тимур"
   ]
  },
  {
   "cell_type": "markdown",
   "metadata": {},
   "source": [
    "Построим процедуру линейной классификации по восьми независимым признакам, прогнозирующих смерть младенцев."
   ]
  },
  {
   "cell_type": "code",
   "execution_count": 64,
   "metadata": {},
   "outputs": [],
   "source": [
    "data <-read.csv(\"baseMA.csv\", sep = \";\")\n",
    "data <- data.frame(Outcome = data$Outcome, Diuresis1 = data$Diuresis1, Weight1 = data$Weight1, \n",
    "                   Duration.in.hosp = data$Duration.in.hosp, PA1 = data$PA1, \n",
    "                   RBC1 = data$RBC1, PS1 = data$PS1, DF1 = data$DF1, Sat1 = data$Sat1)\n",
    "data <- na.omit(data)"
   ]
  },
  {
   "cell_type": "markdown",
   "metadata": {},
   "source": [
    "Найдем коэффициенты $\\alpha_{i}$ дискриминантной функции вида\n",
    "\n",
    "$$z = \\alpha_{1}x_{1}+\\dots+\\alpha_{p}x_{p} = \\alpha^{T}X$$"
   ]
  },
  {
   "cell_type": "code",
   "execution_count": 65,
   "metadata": {},
   "outputs": [
    {
     "data": {
      "text/html": [
       "<style>\n",
       ".dl-inline {width: auto; margin:0; padding: 0}\n",
       ".dl-inline>dt, .dl-inline>dd {float: none; width: auto; display: inline-block}\n",
       ".dl-inline>dt::after {content: \":\\0020\"; padding-right: .5ex}\n",
       ".dl-inline>dt:not(:first-of-type) {padding-left: .5ex}\n",
       "</style><dl class=dl-inline><dt>Diuresis1</dt><dd>-0.129673398362025</dd><dt>Weight1</dt><dd>-0.000171825757341449</dd><dt>Duration.in.hosp</dt><dd>0.0127597272006726</dd><dt>PA1</dt><dd>0.0347032828332764</dd><dt>RBC1</dt><dd>0.709616461937424</dd><dt>PS1</dt><dd>-0.0101660827999306</dd><dt>DF1</dt><dd>-0.0144560042929833</dd><dt>Sat1</dt><dd>0.106491024535877</dd></dl>\n"
      ],
      "text/latex": [
       "\\begin{description*}\n",
       "\\item[Diuresis1] -0.129673398362025\n",
       "\\item[Weight1] -0.000171825757341449\n",
       "\\item[Duration.in.hosp] 0.0127597272006726\n",
       "\\item[PA1] 0.0347032828332764\n",
       "\\item[RBC1] 0.709616461937424\n",
       "\\item[PS1] -0.0101660827999306\n",
       "\\item[DF1] -0.0144560042929833\n",
       "\\item[Sat1] 0.106491024535877\n",
       "\\end{description*}\n"
      ],
      "text/markdown": [
       "Diuresis1\n",
       ":   -0.129673398362025Weight1\n",
       ":   -0.000171825757341449Duration.in.hosp\n",
       ":   0.0127597272006726PA1\n",
       ":   0.0347032828332764RBC1\n",
       ":   0.709616461937424PS1\n",
       ":   -0.0101660827999306DF1\n",
       ":   -0.0144560042929833Sat1\n",
       ":   0.106491024535877\n",
       "\n"
      ],
      "text/plain": [
       "       Diuresis1          Weight1 Duration.in.hosp              PA1 \n",
       "   -0.1296733984    -0.0001718258     0.0127597272     0.0347032828 \n",
       "            RBC1              PS1              DF1             Sat1 \n",
       "    0.7096164619    -0.0101660828    -0.0144560043     0.1064910245 "
      ]
     },
     "metadata": {},
     "output_type": "display_data"
    }
   ],
   "source": [
    "W1 = data[data$Outcome == 1,][-1]\n",
    "W2 = data[data$Outcome == 0,][-1]\n",
    "\n",
    "n1 = length(data$Outcome[data$Outcome == 1])\n",
    "n2 = length(data$Outcome[data$Outcome == 0])\n",
    "\n",
    "X1 = 1 / n1 * apply(W1, 2, sum) \n",
    "X2 = 1 / n2 * apply(W2, 2, sum)\n",
    "\n",
    "S = 1 / (n1 + n2 - 2) * ((n1 - 1) * cov(W1) + (n2 - 1) * cov(W2))\n",
    "alpha = solve(S, X1 - X2)\n",
    "alpha"
   ]
  },
  {
   "cell_type": "markdown",
   "metadata": {},
   "source": [
    "Проверим встроенной функцией:"
   ]
  },
  {
   "cell_type": "code",
   "execution_count": 66,
   "metadata": {},
   "outputs": [
    {
     "name": "stdout",
     "output_type": "stream",
     "text": [
      "Call:\n",
      "lda(data$Outcome ~ ., data = data)\n",
      "\n",
      "Prior probabilities of groups:\n",
      "       0        1 \n",
      "0.195122 0.804878 \n",
      "\n",
      "Group means:\n",
      "  Diuresis1  Weight1 Duration.in.hosp      PA1     RBC1      PS1      DF1\n",
      "0  6.039167 1072.917         61.95833 45.70833 3.657083 155.3750 34.37500\n",
      "1  5.708788 1071.263         90.19192 50.36364 4.066869 154.9899 33.25253\n",
      "      Sat1\n",
      "0 93.83333\n",
      "1 95.00000\n",
      "\n",
      "Coefficients of linear discriminants:\n",
      "                           LD1\n",
      "Diuresis1        -0.1296666476\n",
      "Weight1          -0.0001718168\n",
      "Duration.in.hosp  0.0127590629\n",
      "PA1               0.0347014762\n",
      "RBC1              0.7095795194\n",
      "PS1              -0.0101655536\n",
      "DF1              -0.0144552517\n",
      "Sat1              0.1064854806\n"
     ]
    }
   ],
   "source": [
    "m = as.matrix(data[-1])\n",
    "m = as.vector(m %*% alpha)\n",
    "\n",
    "l <- lda(data$Outcome ~., data)\n",
    "print(l)"
   ]
  },
  {
   "cell_type": "markdown",
   "metadata": {},
   "source": [
    "Найдем граничное значение дискриминантной функции:"
   ]
  },
  {
   "cell_type": "code",
   "execution_count": 81,
   "metadata": {},
   "outputs": [
    {
     "data": {
      "text/html": [
       "11.0033667867775"
      ],
      "text/latex": [
       "11.0033667867775"
      ],
      "text/markdown": [
       "11.0033667867775"
      ],
      "text/plain": [
       "[1] 11.00337"
      ]
     },
     "metadata": {},
     "output_type": "display_data"
    }
   ],
   "source": [
    "q1 = n1 / (n1 + n2)\n",
    "q2 = 1 - q1\n",
    "\n",
    "z.k = (t(alpha) %*% X1 + t(alpha) %*% X2)/2 + log(q2/q1)\n",
    "z.k = as.numeric(z.k)\n",
    "\n",
    "z.k"
   ]
  },
  {
   "cell_type": "markdown",
   "metadata": {},
   "source": [
    "Построим матрицу классификации:"
   ]
  },
  {
   "cell_type": "code",
   "execution_count": 82,
   "metadata": {},
   "outputs": [
    {
     "data": {
      "text/html": [
       "<table>\n",
       "<caption>A matrix: 3 × 3 of type dbl</caption>\n",
       "<thead>\n",
       "\t<tr><th></th><th scope=col>Процент</th><th scope=col>W1</th><th scope=col>W2</th></tr>\n",
       "</thead>\n",
       "<tbody>\n",
       "\t<tr><th scope=row>W1</th><td>1.0000000</td><td> 99</td><td>0</td></tr>\n",
       "\t<tr><th scope=row>W2</th><td>0.2083333</td><td> 19</td><td>5</td></tr>\n",
       "\t<tr><th scope=row>Всего</th><td>0.6041667</td><td>118</td><td>5</td></tr>\n",
       "</tbody>\n",
       "</table>\n"
      ],
      "text/latex": [
       "A matrix: 3 × 3 of type dbl\n",
       "\\begin{tabular}{r|lll}\n",
       "  & Процент & W1 & W2\\\\\n",
       "\\hline\n",
       "\tW1 & 1.0000000 &  99 & 0\\\\\n",
       "\tW2 & 0.2083333 &  19 & 5\\\\\n",
       "\tВсего & 0.6041667 & 118 & 5\\\\\n",
       "\\end{tabular}\n"
      ],
      "text/markdown": [
       "\n",
       "A matrix: 3 × 3 of type dbl\n",
       "\n",
       "| <!--/--> | Процент | W1 | W2 |\n",
       "|---|---|---|---|\n",
       "| W1 | 1.0000000 |  99 | 0 |\n",
       "| W2 | 0.2083333 |  19 | 5 |\n",
       "| Всего | 0.6041667 | 118 | 5 |\n",
       "\n"
      ],
      "text/plain": [
       "      Процент   W1  W2\n",
       "W1    1.0000000  99 0 \n",
       "W2    0.2083333  19 5 \n",
       "Всего 0.6041667 118 5 "
      ]
     },
     "metadata": {},
     "output_type": "display_data"
    },
    {
     "data": {
      "text/plain": [
       "   \n",
       "     0  1\n",
       "  0  5 19\n",
       "  1  0 99"
      ]
     },
     "metadata": {},
     "output_type": "display_data"
    }
   ],
   "source": [
    "a = b = c = d = 0\n",
    "for (i in 1:length(m)){\n",
    "  if (m[i] >= z.k  & data$Outcome[i] == 1) a = a + 1\n",
    "  if (m[i] < z.k & data$Outcome[i] == 1) b = b + 1\n",
    "  if (m[i] >= z.k & data$Outcome[i] == 0) c = c + 1\n",
    "  if (m[i] < z.k & data$Outcome[i] == 0) d = d + 1\n",
    "}\n",
    "dm <- rbind(c(a/(a+b), a, b), c(d/(c + d), c, d), c((a/(a+b) + d/(c + d))/2, a + c, b + d))\n",
    "\n",
    "colnames(dm)<-c(\"Процент\", \"W1\", \"W2\")\n",
    "rownames(dm)<-c('W1','W2', \"Всего\")\n",
    "\n",
    "dm\n",
    "table(data$Outcome, predict(l)$class)"
   ]
  },
  {
   "cell_type": "markdown",
   "metadata": {},
   "source": [
    "Процент правильной классификации для выживших младенцев:"
   ]
  },
  {
   "cell_type": "code",
   "execution_count": 71,
   "metadata": {},
   "outputs": [
    {
     "data": {
      "text/html": [
       "1"
      ],
      "text/latex": [
       "1"
      ],
      "text/markdown": [
       "1"
      ],
      "text/plain": [
       "[1] 1"
      ]
     },
     "metadata": {},
     "output_type": "display_data"
    }
   ],
   "source": [
    "1 -  b / (a + b)"
   ]
  },
  {
   "cell_type": "markdown",
   "metadata": {},
   "source": [
    "Процент правильной классификации для умерших младенцев:\n"
   ]
  },
  {
   "cell_type": "code",
   "execution_count": 72,
   "metadata": {},
   "outputs": [
    {
     "data": {
      "text/html": [
       "0.208333333333333"
      ],
      "text/latex": [
       "0.208333333333333"
      ],
      "text/markdown": [
       "0.208333333333333"
      ],
      "text/plain": [
       "[1] 0.2083333"
      ]
     },
     "metadata": {},
     "output_type": "display_data"
    }
   ],
   "source": [
    "1 - c / (c + d)"
   ]
  }
 ],
 "metadata": {
  "kernelspec": {
   "display_name": "R",
   "language": "R",
   "name": "ir"
  },
  "language_info": {
   "codemirror_mode": "r",
   "file_extension": ".r",
   "mimetype": "text/x-r-source",
   "name": "R",
   "pygments_lexer": "r",
   "version": "3.6.3"
  }
 },
 "nbformat": 4,
 "nbformat_minor": 4
}
