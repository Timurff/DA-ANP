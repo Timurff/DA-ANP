{
 "cells": [
  {
   "cell_type": "code",
   "execution_count": 1,
   "metadata": {},
   "outputs": [],
   "source": [
    "import numpy as np\n",
    "import pandas as pd\n",
    "import seaborn as sns\n",
    "import matplotlib.pyplot as plt\n",
    "from scipy.stats import f, t\n",
    "%matplotlib inline"
   ]
  },
  {
   "cell_type": "markdown",
   "metadata": {},
   "source": [
    "# Распределение Уишарта и статистика Хотеллинга.\n",
    "## Фахртдинов Тимур"
   ]
  },
  {
   "cell_type": "markdown",
   "metadata": {},
   "source": [
    "# Задача\n",
    "\n",
    "Исследовать наборы переменных (зависимая и независимые) на предмет наличия выбросов. Сравнить по совокупностям переменных мальчиков и девочек.\n",
    "\n",
    "О наборе данных:<br>\n",
    "Данные о недоношенных младенцах, у которых вовремя не закрылся артериальный проток.\n",
    "\n",
    "Рассмотрим переменные:<br>\n",
    "**Duration in hosp** -- Длительность госпитализации. <br> \n",
    "**O2 1** -- Насыщение крови кислородом до.<br>\n",
    "**O2 2** -- Насыщение крови кислородом после.<br>\n",
    "**PA1** -- Артериальное давление до.<br>\n",
    "**PA2** -- Артериальное давление после.<br>\n",
    "**Diuresis1** -- Диурез до."
   ]
  },
  {
   "cell_type": "code",
   "execution_count": 2,
   "metadata": {},
   "outputs": [
    {
     "data": {
      "text/html": [
       "<div>\n",
       "<style scoped>\n",
       "    .dataframe tbody tr th:only-of-type {\n",
       "        vertical-align: middle;\n",
       "    }\n",
       "\n",
       "    .dataframe tbody tr th {\n",
       "        vertical-align: top;\n",
       "    }\n",
       "\n",
       "    .dataframe thead th {\n",
       "        text-align: right;\n",
       "    }\n",
       "</style>\n",
       "<table border=\"1\" class=\"dataframe\">\n",
       "  <thead>\n",
       "    <tr style=\"text-align: right;\">\n",
       "      <th></th>\n",
       "      <th>therapy</th>\n",
       "      <th>Sex</th>\n",
       "      <th>Weight1</th>\n",
       "      <th>G age</th>\n",
       "      <th>Duration in hosp</th>\n",
       "      <th>Duration of Reanimation</th>\n",
       "      <th>Alone Breathing</th>\n",
       "      <th>Duration of Ventilation1</th>\n",
       "      <th>Duration of Ventilation2</th>\n",
       "      <th>O2 1</th>\n",
       "      <th>...</th>\n",
       "      <th>Age in Operation</th>\n",
       "      <th>Duration of Operation</th>\n",
       "      <th>CLOSE</th>\n",
       "      <th>BLD</th>\n",
       "      <th>RN</th>\n",
       "      <th>IVB</th>\n",
       "      <th>IVB_step</th>\n",
       "      <th>NEC</th>\n",
       "      <th>Day_of_clos</th>\n",
       "      <th>Outcome</th>\n",
       "    </tr>\n",
       "  </thead>\n",
       "  <tbody>\n",
       "    <tr>\n",
       "      <th>1</th>\n",
       "      <td>3</td>\n",
       "      <td>1</td>\n",
       "      <td>980.0</td>\n",
       "      <td>27</td>\n",
       "      <td>82.0</td>\n",
       "      <td>36.0</td>\n",
       "      <td>NaN</td>\n",
       "      <td>NaN</td>\n",
       "      <td>NaN</td>\n",
       "      <td>0.25</td>\n",
       "      <td>...</td>\n",
       "      <td>NaN</td>\n",
       "      <td>NaN</td>\n",
       "      <td>1.0</td>\n",
       "      <td>1.0</td>\n",
       "      <td>1.0</td>\n",
       "      <td>1.0</td>\n",
       "      <td>2.0</td>\n",
       "      <td>0.0</td>\n",
       "      <td>0.0</td>\n",
       "      <td>1.0</td>\n",
       "    </tr>\n",
       "    <tr>\n",
       "      <th>2</th>\n",
       "      <td>3</td>\n",
       "      <td>1</td>\n",
       "      <td>1930.0</td>\n",
       "      <td>32</td>\n",
       "      <td>44.0</td>\n",
       "      <td>8.0</td>\n",
       "      <td>NaN</td>\n",
       "      <td>NaN</td>\n",
       "      <td>NaN</td>\n",
       "      <td>0.45</td>\n",
       "      <td>...</td>\n",
       "      <td>NaN</td>\n",
       "      <td>NaN</td>\n",
       "      <td>1.0</td>\n",
       "      <td>1.0</td>\n",
       "      <td>0.0</td>\n",
       "      <td>1.0</td>\n",
       "      <td>1.0</td>\n",
       "      <td>0.0</td>\n",
       "      <td>9.0</td>\n",
       "      <td>1.0</td>\n",
       "    </tr>\n",
       "    <tr>\n",
       "      <th>3</th>\n",
       "      <td>3</td>\n",
       "      <td>2</td>\n",
       "      <td>1090.0</td>\n",
       "      <td>28</td>\n",
       "      <td>51.0</td>\n",
       "      <td>8.0</td>\n",
       "      <td>NaN</td>\n",
       "      <td>NaN</td>\n",
       "      <td>NaN</td>\n",
       "      <td>0.21</td>\n",
       "      <td>...</td>\n",
       "      <td>NaN</td>\n",
       "      <td>NaN</td>\n",
       "      <td>1.0</td>\n",
       "      <td>0.0</td>\n",
       "      <td>1.0</td>\n",
       "      <td>0.0</td>\n",
       "      <td>0.0</td>\n",
       "      <td>0.0</td>\n",
       "      <td>6.0</td>\n",
       "      <td>1.0</td>\n",
       "    </tr>\n",
       "    <tr>\n",
       "      <th>4</th>\n",
       "      <td>2</td>\n",
       "      <td>1</td>\n",
       "      <td>1220.0</td>\n",
       "      <td>30</td>\n",
       "      <td>61.0</td>\n",
       "      <td>32.0</td>\n",
       "      <td>NaN</td>\n",
       "      <td>NaN</td>\n",
       "      <td>NaN</td>\n",
       "      <td>0.45</td>\n",
       "      <td>...</td>\n",
       "      <td>11.0</td>\n",
       "      <td>30.0</td>\n",
       "      <td>0.0</td>\n",
       "      <td>1.0</td>\n",
       "      <td>0.0</td>\n",
       "      <td>0.0</td>\n",
       "      <td>0.0</td>\n",
       "      <td>0.0</td>\n",
       "      <td>11.0</td>\n",
       "      <td>1.0</td>\n",
       "    </tr>\n",
       "    <tr>\n",
       "      <th>5</th>\n",
       "      <td>3</td>\n",
       "      <td>2</td>\n",
       "      <td>914.0</td>\n",
       "      <td>28</td>\n",
       "      <td>96.0</td>\n",
       "      <td>21.0</td>\n",
       "      <td>NaN</td>\n",
       "      <td>NaN</td>\n",
       "      <td>NaN</td>\n",
       "      <td>0.25</td>\n",
       "      <td>...</td>\n",
       "      <td>NaN</td>\n",
       "      <td>NaN</td>\n",
       "      <td>1.0</td>\n",
       "      <td>1.0</td>\n",
       "      <td>2.0</td>\n",
       "      <td>0.0</td>\n",
       "      <td>0.0</td>\n",
       "      <td>0.0</td>\n",
       "      <td>7.0</td>\n",
       "      <td>1.0</td>\n",
       "    </tr>\n",
       "  </tbody>\n",
       "</table>\n",
       "<p>5 rows × 47 columns</p>\n",
       "</div>"
      ],
      "text/plain": [
       "   therapy  Sex  Weight1  G age  Duration in hosp  Duration of Reanimation  \\\n",
       "1        3    1    980.0     27              82.0                     36.0   \n",
       "2        3    1   1930.0     32              44.0                      8.0   \n",
       "3        3    2   1090.0     28              51.0                      8.0   \n",
       "4        2    1   1220.0     30              61.0                     32.0   \n",
       "5        3    2    914.0     28              96.0                     21.0   \n",
       "\n",
       "   Alone Breathing  Duration of Ventilation1  Duration of Ventilation2  O2 1  \\\n",
       "1              NaN                       NaN                       NaN  0.25   \n",
       "2              NaN                       NaN                       NaN  0.45   \n",
       "3              NaN                       NaN                       NaN  0.21   \n",
       "4              NaN                       NaN                       NaN  0.45   \n",
       "5              NaN                       NaN                       NaN  0.25   \n",
       "\n",
       "   ...  Age in Operation  Duration of Operation   CLOSE  BLD   RN  IVB  \\\n",
       "1  ...               NaN                     NaN    1.0  1.0  1.0  1.0   \n",
       "2  ...               NaN                     NaN    1.0  1.0  0.0  1.0   \n",
       "3  ...               NaN                     NaN    1.0  0.0  1.0  0.0   \n",
       "4  ...              11.0                    30.0    0.0  1.0  0.0  0.0   \n",
       "5  ...               NaN                     NaN    1.0  1.0  2.0  0.0   \n",
       "\n",
       "   IVB_step  NEC  Day_of_clos  Outcome  \n",
       "1       2.0  0.0          0.0      1.0  \n",
       "2       1.0  0.0          9.0      1.0  \n",
       "3       0.0  0.0          6.0      1.0  \n",
       "4       0.0  0.0         11.0      1.0  \n",
       "5       0.0  0.0          7.0      1.0  \n",
       "\n",
       "[5 rows x 47 columns]"
      ]
     },
     "execution_count": 2,
     "metadata": {},
     "output_type": "execute_result"
    }
   ],
   "source": [
    "data = pd.read_csv('baseMA.csv', sep=';', index_col=0)\n",
    "\n",
    "data.head()"
   ]
  },
  {
   "cell_type": "code",
   "execution_count": 3,
   "metadata": {},
   "outputs": [
    {
     "data": {
      "text/html": [
       "<div>\n",
       "<style scoped>\n",
       "    .dataframe tbody tr th:only-of-type {\n",
       "        vertical-align: middle;\n",
       "    }\n",
       "\n",
       "    .dataframe tbody tr th {\n",
       "        vertical-align: top;\n",
       "    }\n",
       "\n",
       "    .dataframe thead th {\n",
       "        text-align: right;\n",
       "    }\n",
       "</style>\n",
       "<table border=\"1\" class=\"dataframe\">\n",
       "  <thead>\n",
       "    <tr style=\"text-align: right;\">\n",
       "      <th></th>\n",
       "      <th>Sex</th>\n",
       "      <th>O2 1</th>\n",
       "      <th>O2 2</th>\n",
       "      <th>PA1</th>\n",
       "      <th>PA2</th>\n",
       "      <th>Duration in hosp</th>\n",
       "      <th>Diuresis1</th>\n",
       "    </tr>\n",
       "  </thead>\n",
       "  <tbody>\n",
       "    <tr>\n",
       "      <th>1</th>\n",
       "      <td>1</td>\n",
       "      <td>0.25</td>\n",
       "      <td>0.30</td>\n",
       "      <td>45.0</td>\n",
       "      <td>53.0</td>\n",
       "      <td>82.0</td>\n",
       "      <td>4.43</td>\n",
       "    </tr>\n",
       "    <tr>\n",
       "      <th>2</th>\n",
       "      <td>1</td>\n",
       "      <td>0.45</td>\n",
       "      <td>0.21</td>\n",
       "      <td>47.0</td>\n",
       "      <td>43.0</td>\n",
       "      <td>44.0</td>\n",
       "      <td>8.00</td>\n",
       "    </tr>\n",
       "    <tr>\n",
       "      <th>3</th>\n",
       "      <td>2</td>\n",
       "      <td>0.21</td>\n",
       "      <td>0.21</td>\n",
       "      <td>35.0</td>\n",
       "      <td>NaN</td>\n",
       "      <td>51.0</td>\n",
       "      <td>5.90</td>\n",
       "    </tr>\n",
       "    <tr>\n",
       "      <th>4</th>\n",
       "      <td>1</td>\n",
       "      <td>0.45</td>\n",
       "      <td>0.35</td>\n",
       "      <td>NaN</td>\n",
       "      <td>41.0</td>\n",
       "      <td>61.0</td>\n",
       "      <td>5.60</td>\n",
       "    </tr>\n",
       "    <tr>\n",
       "      <th>5</th>\n",
       "      <td>2</td>\n",
       "      <td>0.25</td>\n",
       "      <td>0.30</td>\n",
       "      <td>40.0</td>\n",
       "      <td>77.0</td>\n",
       "      <td>96.0</td>\n",
       "      <td>7.50</td>\n",
       "    </tr>\n",
       "  </tbody>\n",
       "</table>\n",
       "</div>"
      ],
      "text/plain": [
       "   Sex  O2 1  O2 2    PA1   PA2  Duration in hosp  Diuresis1\n",
       "1    1  0.25   0.30  45.0  53.0              82.0       4.43\n",
       "2    1  0.45   0.21  47.0  43.0              44.0       8.00\n",
       "3    2  0.21   0.21  35.0   NaN              51.0       5.90\n",
       "4    1  0.45   0.35   NaN  41.0              61.0       5.60\n",
       "5    2  0.25   0.30  40.0  77.0              96.0       7.50"
      ]
     },
     "execution_count": 3,
     "metadata": {},
     "output_type": "execute_result"
    }
   ],
   "source": [
    "depend_var = ['Sex', 'O2 1', 'O2 2 ', 'PA1', 'PA2', 'Duration in hosp', 'Diuresis1']\n",
    "data = data[depend_var]\n",
    "\n",
    "data.head()"
   ]
  },
  {
   "cell_type": "markdown",
   "metadata": {},
   "source": [
    "Исключим объекты, для которых есть пропущенные данные."
   ]
  },
  {
   "cell_type": "code",
   "execution_count": 46,
   "metadata": {},
   "outputs": [
    {
     "data": {
      "text/html": [
       "<div>\n",
       "<style scoped>\n",
       "    .dataframe tbody tr th:only-of-type {\n",
       "        vertical-align: middle;\n",
       "    }\n",
       "\n",
       "    .dataframe tbody tr th {\n",
       "        vertical-align: top;\n",
       "    }\n",
       "\n",
       "    .dataframe thead th {\n",
       "        text-align: right;\n",
       "    }\n",
       "</style>\n",
       "<table border=\"1\" class=\"dataframe\">\n",
       "  <thead>\n",
       "    <tr style=\"text-align: right;\">\n",
       "      <th></th>\n",
       "      <th>Sex</th>\n",
       "      <th>O2 1</th>\n",
       "      <th>O2 2</th>\n",
       "      <th>PA1</th>\n",
       "      <th>PA2</th>\n",
       "      <th>Duration in hosp</th>\n",
       "      <th>Diuresis1</th>\n",
       "    </tr>\n",
       "  </thead>\n",
       "  <tbody>\n",
       "    <tr>\n",
       "      <th>1</th>\n",
       "      <td>1</td>\n",
       "      <td>0.25</td>\n",
       "      <td>0.30</td>\n",
       "      <td>45.0</td>\n",
       "      <td>53.0</td>\n",
       "      <td>82.0</td>\n",
       "      <td>4.43</td>\n",
       "    </tr>\n",
       "    <tr>\n",
       "      <th>2</th>\n",
       "      <td>1</td>\n",
       "      <td>0.45</td>\n",
       "      <td>0.21</td>\n",
       "      <td>47.0</td>\n",
       "      <td>43.0</td>\n",
       "      <td>44.0</td>\n",
       "      <td>8.00</td>\n",
       "    </tr>\n",
       "    <tr>\n",
       "      <th>5</th>\n",
       "      <td>2</td>\n",
       "      <td>0.25</td>\n",
       "      <td>0.30</td>\n",
       "      <td>40.0</td>\n",
       "      <td>77.0</td>\n",
       "      <td>96.0</td>\n",
       "      <td>7.50</td>\n",
       "    </tr>\n",
       "    <tr>\n",
       "      <th>6</th>\n",
       "      <td>2</td>\n",
       "      <td>0.25</td>\n",
       "      <td>0.21</td>\n",
       "      <td>53.0</td>\n",
       "      <td>57.0</td>\n",
       "      <td>96.0</td>\n",
       "      <td>6.46</td>\n",
       "    </tr>\n",
       "    <tr>\n",
       "      <th>7</th>\n",
       "      <td>2</td>\n",
       "      <td>0.30</td>\n",
       "      <td>0.21</td>\n",
       "      <td>66.0</td>\n",
       "      <td>63.0</td>\n",
       "      <td>26.0</td>\n",
       "      <td>4.03</td>\n",
       "    </tr>\n",
       "  </tbody>\n",
       "</table>\n",
       "</div>"
      ],
      "text/plain": [
       "   Sex  O2 1  O2 2    PA1   PA2  Duration in hosp  Diuresis1\n",
       "1    1  0.25   0.30  45.0  53.0              82.0       4.43\n",
       "2    1  0.45   0.21  47.0  43.0              44.0       8.00\n",
       "5    2  0.25   0.30  40.0  77.0              96.0       7.50\n",
       "6    2  0.25   0.21  53.0  57.0              96.0       6.46\n",
       "7    2  0.30   0.21  66.0  63.0              26.0       4.03"
      ]
     },
     "execution_count": 46,
     "metadata": {},
     "output_type": "execute_result"
    }
   ],
   "source": [
    "data = data.dropna()\n",
    "data.head()"
   ]
  },
  {
   "cell_type": "markdown",
   "metadata": {},
   "source": [
    "### Гипотезы о средних\n",
    "\n",
    "Для мальчиков и девочек проверим гипотезу о равенстве нулю вектора средних для разности показателей до лечения и после лечения. Начнем с постоения boxplot'ов."
   ]
  },
  {
   "cell_type": "markdown",
   "metadata": {},
   "source": [
    "Для мальчиков:"
   ]
  },
  {
   "cell_type": "code",
   "execution_count": 51,
   "metadata": {},
   "outputs": [
    {
     "data": {
      "text/plain": [
       "<matplotlib.axes._subplots.AxesSubplot at 0xfab8690>"
      ]
     },
     "execution_count": 51,
     "metadata": {},
     "output_type": "execute_result"
    },
    {
     "data": {
      "image/png": "[encoded data removed]",
      "text/plain": [
       "<Figure size 432x288 with 1 Axes>"
      ]
     },
     "metadata": {
      "needs_background": "light"
     },
     "output_type": "display_data"
    }
   ],
   "source": [
    "data.loc[data['Sex'] == 1].boxplot(column=['O2 1', 'O2 2 '])"
   ]
  },
  {
   "cell_type": "code",
   "execution_count": 52,
   "metadata": {},
   "outputs": [
    {
     "data": {
      "text/plain": [
       "<matplotlib.axes._subplots.AxesSubplot at 0xfa24170>"
      ]
     },
     "execution_count": 52,
     "metadata": {},
     "output_type": "execute_result"
    },
    {
     "data": {
      "image/png": "[encoded data removed]",
      "text/plain": [
       "<Figure size 432x288 with 1 Axes>"
      ]
     },
     "metadata": {
      "needs_background": "light"
     },
     "output_type": "display_data"
    }
   ],
   "source": [
    "data.loc[data['Sex'] == 1].boxplot(column=['PA1', 'PA2'])"
   ]
  },
  {
   "cell_type": "markdown",
   "metadata": {},
   "source": [
    "Для девочек:"
   ]
  },
  {
   "cell_type": "code",
   "execution_count": 53,
   "metadata": {},
   "outputs": [
    {
     "data": {
      "text/plain": [
       "<matplotlib.axes._subplots.AxesSubplot at 0xfb52a90>"
      ]
     },
     "execution_count": 53,
     "metadata": {},
     "output_type": "execute_result"
    },
    {
     "data": {
      "image/png": "[encoded data removed]",
      "text/plain": [
       "<Figure size 432x288 with 1 Axes>"
      ]
     },
     "metadata": {
      "needs_background": "light"
     },
     "output_type": "display_data"
    }
   ],
   "source": [
    "data.loc[data['Sex'] == 2].boxplot(column=['O2 1', 'O2 2 '])"
   ]
  },
  {
   "cell_type": "code",
   "execution_count": 54,
   "metadata": {},
   "outputs": [
    {
     "data": {
      "text/plain": [
       "<matplotlib.axes._subplots.AxesSubplot at 0xfb97cb0>"
      ]
     },
     "execution_count": 54,
     "metadata": {},
     "output_type": "execute_result"
    },
    {
     "data": {
      "image/png": "[encoded data removed]",
      "text/plain": [
       "<Figure size 432x288 with 1 Axes>"
      ]
     },
     "metadata": {
      "needs_background": "light"
     },
     "output_type": "display_data"
    }
   ],
   "source": [
    "data.loc[data['Sex'] == 2].boxplot(column=['PA1', 'PA2'])"
   ]
  },
  {
   "cell_type": "code",
   "execution_count": 5,
   "metadata": {},
   "outputs": [],
   "source": [
    "X_boys = data.loc[data['Sex'] == 1].iloc[:, 1:]\n",
    "X_girls = data.loc[data['Sex'] == 2].iloc[:, 1:]"
   ]
  },
  {
   "cell_type": "markdown",
   "metadata": {},
   "source": [
    "Используем для этого статистику $T^2_p$:<br>\n",
    "$$T^2_p = N(\\bar X - \\mu)^T\\hat \\Sigma^{-1}(\\bar X - \\mu)$$\n",
    "Известно, что:\n",
    "$$\\frac{N - p}{p(N - 1)} T^2_p \\sim F(p, N - p) \\$$"
   ]
  },
  {
   "cell_type": "code",
   "execution_count": 6,
   "metadata": {},
   "outputs": [],
   "source": [
    "def T2(X, mu):\n",
    "    means = X.mean(0)\n",
    "    temp = X.mean(0) - mu\n",
    "    temp = temp.reshape(temp.shape[0], 1)\n",
    "    Sigma = np.cov(X, rowvar=False)\n",
    "    T2 = temp.T.dot(np.linalg.inv(Sigma)).dot(temp)\n",
    "    return X.shape[0] * T2.item()"
   ]
  },
  {
   "cell_type": "code",
   "execution_count": 7,
   "metadata": {},
   "outputs": [],
   "source": [
    "def T2_stat(data, mu):\n",
    "    X = data.to_numpy()\n",
    "    stat = (X.shape[0] - X.shape[1]) * T2(X, mu) / (X.shape[1] * (X.shape[0] - 1))\n",
    "    p_val = f.sf(stat, X.shape[1], X.shape[0] - X.shape[1])\n",
    "    return stat, p_val"
   ]
  },
  {
   "cell_type": "code",
   "execution_count": 8,
   "metadata": {},
   "outputs": [],
   "source": [
    "X_boys_dif = X_boys.copy()\n",
    "X_girls_dif = X_girls.copy()\n",
    "\n",
    "X_boys_dif['O2 dif'] = X_boys_dif['O2 2 '] - X_boys_dif['O2 1']\n",
    "X_girls_dif['O2 dif'] = X_girls_dif['O2 2 '] - X_girls_dif['O2 1']\n",
    "\n",
    "X_boys_dif['PA dif'] = X_boys_dif['PA2'] - X_boys_dif['PA1']\n",
    "X_girls_dif['PA dif'] = X_girls_dif['PA2'] - X_girls_dif['PA1']"
   ]
  },
  {
   "cell_type": "code",
   "execution_count": 9,
   "metadata": {},
   "outputs": [
    {
     "name": "stdout",
     "output_type": "stream",
     "text": [
      "Значение критерия 2.297, p-value 0.10699978442222875\n"
     ]
    }
   ],
   "source": [
    "boys_stat, boys_p_value = T2_stat(X_boys_dif[['O2 dif', 'PA dif']], np.array([0, 0]))\n",
    "print('Значение критерия {}, p-value {}'.format(round(boys_stat, 4), boys_p_value))"
   ]
  },
  {
   "cell_type": "markdown",
   "metadata": {},
   "source": [
    "*p-value* > 0.05, нулевая гипотеза  о равенстве средних 0 у мальчиков не отвергается."
   ]
  },
  {
   "cell_type": "code",
   "execution_count": 10,
   "metadata": {},
   "outputs": [
    {
     "name": "stdout",
     "output_type": "stream",
     "text": [
      "Значение критерия 1.387, p-value 0.2683957873237283\n"
     ]
    }
   ],
   "source": [
    "girls_stat, girls_p_value = T2_stat(X_girls_dif[['O2 dif', 'PA dif']], np.array([0, 0]))\n",
    "print('Значение критерия {}, p-value {}'.format(round(girls_stat, 4), girls_p_value))"
   ]
  },
  {
   "cell_type": "markdown",
   "metadata": {},
   "source": [
    "*p-value* > 0.05, нулевая гипотеза  о равенстве средних 0 у девочек не отвергается."
   ]
  },
  {
   "cell_type": "markdown",
   "metadata": {},
   "source": [
    "Проверим гипотезу $H_0: \\mu_1 = \\mu_2$, для средних значений мальчиков и девочек.\n",
    "\n",
    "Используем для этого статистику Махаланобиса $D^2_p$\n",
    "$$D^2_p = (\\bar X_1 - \\bar X_2)^T\\hat \\Sigma^{-1}(\\bar X_1 - \\bar X_2)$$ <br>\n",
    "$$\\frac{(N_1 + N_2 - p - 1)N_1N_2}{(N_1 + N_2 - 2)(N_1 + N_2)p}D^2 \\sim F(p, N_1 + N_2 - p - 1)$$"
   ]
  },
  {
   "cell_type": "code",
   "execution_count": 11,
   "metadata": {},
   "outputs": [],
   "source": [
    "def D2(data1, data2):\n",
    "    mean1 = data1.mean(0)\n",
    "    mean2 = data2.mean(0)\n",
    "    d = mean1 - mean2\n",
    "    d = d.reshape(d.shape[0], 1)\n",
    "    \n",
    "    Sigma1 = np.cov(data1, rowvar=False) * (data1.shape[0] - 1)\n",
    "    Sigma2 = np.cov(data2, rowvar=False) * (data2.shape[0] - 1)\n",
    "    Sigma = (Sigma1 + Sigma2) / (data1.shape[0] + data2.shape[0] - 2)\n",
    "    \n",
    "    return d.T.dot(np.linalg.inv(Sigma)).dot(d).item() "
   ]
  },
  {
   "cell_type": "code",
   "execution_count": 12,
   "metadata": {},
   "outputs": [],
   "source": [
    "def D2_stat(data1, data2):\n",
    "    X1 = data1.to_numpy()\n",
    "    X2 = data2.to_numpy()\n",
    "    N1 = X1.shape[0]\n",
    "    N2 = X2.shape[0]\n",
    "    p = X1.shape[1]\n",
    "    d2 = D2(X1, X2)\n",
    "    stat = (N1 + N2 - p - 1) * N1 * N2 * d2 / (p * (N1 + N2) * (N1 + N2 - 2))\n",
    "    p_val = f.sf(stat, p, N1 + N2 - p - 1)\n",
    "    return stat, p_val"
   ]
  },
  {
   "cell_type": "code",
   "execution_count": 13,
   "metadata": {},
   "outputs": [
    {
     "name": "stdout",
     "output_type": "stream",
     "text": [
      "Значение критерия 0.11634014836186712, p-value 0.9942948584243724\n"
     ]
    }
   ],
   "source": [
    "stat, p_val = D2_stat(X_boys, X_girls)\n",
    "print('Значение критерия {}, p-value {}'.format(stat, p_val))"
   ]
  },
  {
   "cell_type": "markdown",
   "metadata": {},
   "source": [
    "*p-value* > 0.05, нет оснований отклонить нулевую гипотезу."
   ]
  },
  {
   "cell_type": "markdown",
   "metadata": {},
   "source": [
    "### Выбросы.\n",
    "\n",
    "Чтобы проверить имеются ли в выборке выбросы для каждого $x_i$, $i = 0, \\ldots, n$, по всем $N = n - 1$ векторам наблюдений, исключая $x_i$, вычисляются $\\bar x_i$, ковариционная матрица $\\hat \\Sigma_i$ и расстояние Махаланобиса $D^2_i$ между $x_i$ и $\\bar x_i$ и соответствующие *p-value* $p_i$.\n",
    "\n",
    "Расстояние Махаланобиса:\n",
    "$$D^2_p = (x - \\hat x)^T\\hat \\Sigma^{-1}(x - \\hat x)$$ <br>\n",
    "$$\\frac{(N - p)N}{(N^2 - 1)p}D^2 \\sim F(p, N - p)$$"
   ]
  },
  {
   "cell_type": "code",
   "execution_count": 14,
   "metadata": {},
   "outputs": [],
   "source": [
    "def outlier(x, data):\n",
    "    means = data.mean(0)\n",
    "    d = x - means\n",
    "    d = d.reshape(d.shape[0], 1)\n",
    "    Sigma = np.cov(data, rowvar=False)\n",
    "    return d.T.dot(np.linalg.inv(Sigma)).dot(d).item() "
   ]
  },
  {
   "cell_type": "code",
   "execution_count": 35,
   "metadata": {},
   "outputs": [],
   "source": [
    "def outlier_stat(data):\n",
    "    X = data.to_numpy()\n",
    "    p_val = np.array(list())\n",
    "    d2 = np.array(list())\n",
    "    N = X.shape[0]\n",
    "    p = X.shape[1]\n",
    "    for i in range(X.shape[0]):\n",
    "        X_i = np.delete(X, i, axis=0)\n",
    "        D2_i = outlier(X[i], X_i)\n",
    "        temp = (N - p) * N * D2_i / ((N**2 - 1) * p)\n",
    "        d2 = np.append(d2, D2_i)\n",
    "        p_val = np.append(p_val, f.sf(temp, X.shape[1], X.shape[0] - X.shape[1]))\n",
    "    \n",
    "    data['D2'] = d2\n",
    "    data['p-value'] = p_val"
   ]
  },
  {
   "cell_type": "markdown",
   "metadata": {},
   "source": [
    "Разделим данные и нарисуем графики, отметив на них выбросы:"
   ]
  },
  {
   "cell_type": "code",
   "execution_count": 37,
   "metadata": {},
   "outputs": [],
   "source": [
    "X_boys = data.loc[data['Sex'] == 1].iloc[:, 1:]\n",
    "X_girls = data.loc[data['Sex'] == 2].iloc[:, 1:]"
   ]
  },
  {
   "cell_type": "code",
   "execution_count": 38,
   "metadata": {},
   "outputs": [],
   "source": [
    "outlier_stat(X_girls)\n",
    "outlier_stat(X_boys)"
   ]
  },
  {
   "cell_type": "code",
   "execution_count": 39,
   "metadata": {},
   "outputs": [
    {
     "data": {
      "text/plain": [
       "[<matplotlib.lines.Line2D at 0x4881710>]"
      ]
     },
     "execution_count": 39,
     "metadata": {},
     "output_type": "execute_result"
    },
    {
     "data": {
      "image/png": "[encoded data removed]",
      "text/plain": [
       "<Figure size 432x288 with 1 Axes>"
      ]
     },
     "metadata": {
      "needs_background": "light"
     },
     "output_type": "display_data"
    },
    {
     "data": {
      "image/png": "[encoded data removed]",
      "text/plain": [
       "<Figure size 432x288 with 1 Axes>"
      ]
     },
     "metadata": {
      "needs_background": "light"
     },
     "output_type": "display_data"
    },
    {
     "data": {
      "image/png": "[encoded data removed]",
      "text/plain": [
       "<Figure size 432x288 with 1 Axes>"
      ]
     },
     "metadata": {
      "needs_background": "light"
     },
     "output_type": "display_data"
    },
    {
     "data": {
      "image/png": "[encoded data removed]",
      "text/plain": [
       "<Figure size 432x288 with 1 Axes>"
      ]
     },
     "metadata": {
      "needs_background": "light"
     },
     "output_type": "display_data"
    }
   ],
   "source": [
    "X_boys.plot(y='PA1', x='O2 1', kind='scatter', color='blue')\n",
    "plt.plot(X_boys[X_boys['p-value'] < 0.05]['O2 1'], X_boys[X_boys['p-value'] < 0.05]['PA1'], 'r*')\n",
    "\n",
    "X_boys.plot(y='PA1', x='Duration in hosp', kind='scatter', color='blue')\n",
    "plt.plot(X_boys[X_boys['p-value'] < 0.05]['Duration in hosp'], X_boys[X_boys['p-value'] < 0.05]['PA1'], 'r*')\n",
    "\n",
    "X_boys.plot(y='PA1', x='Diuresis1', kind='scatter', color='blue')\n",
    "plt.plot(X_boys[X_boys['p-value'] < 0.05]['Diuresis1'], X_boys[X_boys['p-value'] < 0.05]['PA1'], 'r*')\n",
    "\n",
    "X_boys.plot(y='PA1', x='Diuresis1', kind='scatter', color='blue')\n",
    "plt.plot(X_boys[X_boys['p-value'] < 0.05]['Diuresis1'], X_boys[X_boys['p-value'] < 0.05]['PA1'], 'r*')"
   ]
  },
  {
   "cell_type": "code",
   "execution_count": 40,
   "metadata": {},
   "outputs": [
    {
     "data": {
      "text/plain": [
       "[<matplotlib.lines.Line2D at 0x4962750>]"
      ]
     },
     "execution_count": 40,
     "metadata": {},
     "output_type": "execute_result"
    },
    {
     "data": {
      "image/png": "[encoded data removed]",
      "text/plain": [
       "<Figure size 432x288 with 1 Axes>"
      ]
     },
     "metadata": {
      "needs_background": "light"
     },
     "output_type": "display_data"
    },
    {
     "data": {
      "image/png": "[encoded data removed]",
      "text/plain": [
       "<Figure size 432x288 with 1 Axes>"
      ]
     },
     "metadata": {
      "needs_background": "light"
     },
     "output_type": "display_data"
    },
    {
     "data": {
      "image/png": "[encoded data removed]",
      "text/plain": [
       "<Figure size 432x288 with 1 Axes>"
      ]
     },
     "metadata": {
      "needs_background": "light"
     },
     "output_type": "display_data"
    }
   ],
   "source": [
    "X_boys.plot(y='O2 1', x='Diuresis1', kind='scatter', color='blue')\n",
    "plt.plot(X_boys[X_boys['p-value'] < 0.05]['Diuresis1'], X_boys[X_boys['p-value'] < 0.05]['O2 1'], 'r*')\n",
    "\n",
    "X_boys.plot(y='O2 1', x='Duration in hosp', kind='scatter', color='blue')\n",
    "plt.plot(X_boys[X_boys['p-value'] < 0.05]['Duration in hosp'], X_boys[X_boys['p-value'] < 0.05]['O2 1'], 'r*')\n",
    "\n",
    "X_boys.plot(y='Duration in hosp', x='Diuresis1', kind='scatter', color='blue')\n",
    "plt.plot(X_boys[X_boys['p-value'] < 0.05]['Diuresis1'], X_boys[X_boys['p-value'] < 0.05]['Duration in hosp'], 'r*')"
   ]
  },
  {
   "cell_type": "code",
   "execution_count": 41,
   "metadata": {},
   "outputs": [
    {
     "data": {
      "text/plain": [
       "[<matplotlib.lines.Line2D at 0xde92410>]"
      ]
     },
     "execution_count": 41,
     "metadata": {},
     "output_type": "execute_result"
    },
    {
     "data": {
      "image/png": "[encoded data removed]",
      "text/plain": [
       "<Figure size 432x288 with 1 Axes>"
      ]
     },
     "metadata": {
      "needs_background": "light"
     },
     "output_type": "display_data"
    },
    {
     "data": {
      "image/png": "[encoded data removed]",
      "text/plain": [
       "<Figure size 432x288 with 1 Axes>"
      ]
     },
     "metadata": {
      "needs_background": "light"
     },
     "output_type": "display_data"
    },
    {
     "data": {
      "image/png": "[encoded data removed]",
      "text/plain": [
       "<Figure size 432x288 with 1 Axes>"
      ]
     },
     "metadata": {
      "needs_background": "light"
     },
     "output_type": "display_data"
    },
    {
     "data": {
      "image/png": "[encoded data removed]",
      "text/plain": [
       "<Figure size 432x288 with 1 Axes>"
      ]
     },
     "metadata": {
      "needs_background": "light"
     },
     "output_type": "display_data"
    }
   ],
   "source": [
    "X_girls.plot(y='PA1', x='O2 1', kind='scatter', color='blue')\n",
    "plt.plot(X_girls[X_girls['p-value'] < 0.05]['O2 1'], X_girls[X_girls['p-value'] < 0.05]['PA1'], 'r*')\n",
    "\n",
    "X_girls.plot(y='PA1', x='Duration in hosp', kind='scatter', color='blue')\n",
    "plt.plot(X_girls[X_girls['p-value'] < 0.05]['Duration in hosp'], X_girls[X_girls['p-value'] < 0.05]['PA1'], 'r*')\n",
    "\n",
    "X_girls.plot(y='PA1', x='Diuresis1', kind='scatter', color='blue')\n",
    "plt.plot(X_girls[X_girls['p-value'] < 0.05]['Diuresis1'], X_girls[X_girls['p-value'] < 0.05]['PA1'], 'r*')\n",
    "\n",
    "X_girls.plot(y='PA1', x='Diuresis1', kind='scatter', color='blue')\n",
    "plt.plot(X_girls[X_girls['p-value'] < 0.05]['Diuresis1'], X_girls[X_girls['p-value'] < 0.05]['PA1'], 'r*')"
   ]
  },
  {
   "cell_type": "code",
   "execution_count": 42,
   "metadata": {},
   "outputs": [
    {
     "data": {
      "text/plain": [
       "[<matplotlib.lines.Line2D at 0x4894330>]"
      ]
     },
     "execution_count": 42,
     "metadata": {},
     "output_type": "execute_result"
    },
    {
     "data": {
      "image/png": "[encoded data removed]",
      "text/plain": [
       "<Figure size 432x288 with 1 Axes>"
      ]
     },
     "metadata": {
      "needs_background": "light"
     },
     "output_type": "display_data"
    },
    {
     "data": {
      "image/png": "[encoded data removed]",
      "text/plain": [
       "<Figure size 432x288 with 1 Axes>"
      ]
     },
     "metadata": {
      "needs_background": "light"
     },
     "output_type": "display_data"
    },
    {
     "data": {
      "image/png": "[encoded data removed]",
      "text/plain": [
       "<Figure size 432x288 with 1 Axes>"
      ]
     },
     "metadata": {
      "needs_background": "light"
     },
     "output_type": "display_data"
    }
   ],
   "source": [
    "X_girls.plot(y='O2 1', x='Diuresis1', kind='scatter', color='blue')\n",
    "plt.plot(X_girls[X_girls['p-value'] < 0.05]['Diuresis1'], X_girls[X_girls['p-value'] < 0.05]['O2 1'], 'r*')\n",
    "\n",
    "X_girls.plot(y='O2 1', x='Duration in hosp', kind='scatter', color='blue')\n",
    "plt.plot(X_girls[X_girls['p-value'] < 0.05]['Duration in hosp'], X_girls[X_girls['p-value'] < 0.05]['O2 1'], 'r*')\n",
    "\n",
    "X_girls.plot(y='Duration in hosp', x='Diuresis1', kind='scatter', color='blue')\n",
    "plt.plot(X_girls[X_girls['p-value'] < 0.05]['Diuresis1'], X_girls[X_girls['p-value'] < 0.05]['Duration in hosp'], 'r*')"
   ]
  }
 ],
 "metadata": {
  "kernelspec": {
   "display_name": "Python 3",
   "language": "python",
   "name": "python3"
  },
  "language_info": {
   "codemirror_mode": {
    "name": "ipython",
    "version": 3
   },
   "file_extension": ".py",
   "mimetype": "text/x-python",
   "name": "python",
   "nbconvert_exporter": "python",
   "pygments_lexer": "ipython3",
   "version": "3.6.1"
  }
 },
 "nbformat": 4,
 "nbformat_minor": 4
}
