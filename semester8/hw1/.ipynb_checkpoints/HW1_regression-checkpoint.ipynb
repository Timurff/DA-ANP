{
 "cells": [
  {
   "cell_type": "code",
   "execution_count": 322,
   "metadata": {},
   "outputs": [],
   "source": [
    "import numpy as np\n",
    "import pandas as pd\n",
    "import seaborn as sns\n",
    "import matplotlib.pyplot as plt\n",
    "%matplotlib inline"
   ]
  },
  {
   "cell_type": "code",
   "execution_count": 323,
   "metadata": {},
   "outputs": [
    {
     "data": {
      "text/html": [
       "<div>\n",
       "<style scoped>\n",
       "    .dataframe tbody tr th:only-of-type {\n",
       "        vertical-align: middle;\n",
       "    }\n",
       "\n",
       "    .dataframe tbody tr th {\n",
       "        vertical-align: top;\n",
       "    }\n",
       "\n",
       "    .dataframe thead th {\n",
       "        text-align: right;\n",
       "    }\n",
       "</style>\n",
       "<table border=\"1\" class=\"dataframe\">\n",
       "  <thead>\n",
       "    <tr style=\"text-align: right;\">\n",
       "      <th></th>\n",
       "      <th>Unnamed: 0</th>\n",
       "      <th>CITY</th>\n",
       "      <th>STATE</th>\n",
       "      <th>OLD</th>\n",
       "      <th>BLACK%</th>\n",
       "      <th>ASIAN%</th>\n",
       "      <th>HISP%</th>\n",
       "      <th>DEATH</th>\n",
       "      <th>POP_CH</th>\n",
       "      <th>POPDEN</th>\n",
       "      <th>...</th>\n",
       "      <th>SCHOOL</th>\n",
       "      <th>DEGREE</th>\n",
       "      <th>ASSIST</th>\n",
       "      <th>GROSS</th>\n",
       "      <th>CONDOM</th>\n",
       "      <th>LAB_F</th>\n",
       "      <th>MANLAB</th>\n",
       "      <th>TRANSP</th>\n",
       "      <th>TEMPER</th>\n",
       "      <th>PRECEP</th>\n",
       "    </tr>\n",
       "  </thead>\n",
       "  <tbody>\n",
       "    <tr>\n",
       "      <th>0</th>\n",
       "      <td>1</td>\n",
       "      <td>NEW_YORK</td>\n",
       "      <td>NY</td>\n",
       "      <td>13.0</td>\n",
       "      <td>28.7</td>\n",
       "      <td>7.0</td>\n",
       "      <td>24.4</td>\n",
       "      <td>13.2</td>\n",
       "      <td>3.4</td>\n",
       "      <td>23671</td>\n",
       "      <td>...</td>\n",
       "      <td>79.1</td>\n",
       "      <td>23.0</td>\n",
       "      <td>13.1</td>\n",
       "      <td>496</td>\n",
       "      <td>7.2</td>\n",
       "      <td>53.7</td>\n",
       "      <td>11.4</td>\n",
       "      <td>53.4</td>\n",
       "      <td>76.8</td>\n",
       "      <td>47.3</td>\n",
       "    </tr>\n",
       "    <tr>\n",
       "      <th>1</th>\n",
       "      <td>2</td>\n",
       "      <td>LOS_ANGE</td>\n",
       "      <td>CA</td>\n",
       "      <td>10.0</td>\n",
       "      <td>14.0</td>\n",
       "      <td>9.8</td>\n",
       "      <td>39.9</td>\n",
       "      <td>10.1</td>\n",
       "      <td>17.6</td>\n",
       "      <td>7436</td>\n",
       "      <td>...</td>\n",
       "      <td>86.8</td>\n",
       "      <td>23.0</td>\n",
       "      <td>10.7</td>\n",
       "      <td>600</td>\n",
       "      <td>7.5</td>\n",
       "      <td>58.0</td>\n",
       "      <td>18.4</td>\n",
       "      <td>10.5</td>\n",
       "      <td>74.3</td>\n",
       "      <td>14.8</td>\n",
       "    </tr>\n",
       "    <tr>\n",
       "      <th>2</th>\n",
       "      <td>3</td>\n",
       "      <td>CHICAGO</td>\n",
       "      <td>IL</td>\n",
       "      <td>11.9</td>\n",
       "      <td>39.1</td>\n",
       "      <td>3.7</td>\n",
       "      <td>19.6</td>\n",
       "      <td>15.2</td>\n",
       "      <td>-7.9</td>\n",
       "      <td>12185</td>\n",
       "      <td>...</td>\n",
       "      <td>79.5</td>\n",
       "      <td>19.5</td>\n",
       "      <td>14.4</td>\n",
       "      <td>445</td>\n",
       "      <td>7.0</td>\n",
       "      <td>56.2</td>\n",
       "      <td>18.7</td>\n",
       "      <td>29.7</td>\n",
       "      <td>75.1</td>\n",
       "      <td>37.4</td>\n",
       "    </tr>\n",
       "    <tr>\n",
       "      <th>3</th>\n",
       "      <td>4</td>\n",
       "      <td>HOUSTON</td>\n",
       "      <td>TX</td>\n",
       "      <td>8.3</td>\n",
       "      <td>28.1</td>\n",
       "      <td>4.1</td>\n",
       "      <td>27.6</td>\n",
       "      <td>11.3</td>\n",
       "      <td>6.0</td>\n",
       "      <td>3131</td>\n",
       "      <td>...</td>\n",
       "      <td>92.3</td>\n",
       "      <td>25.1</td>\n",
       "      <td>7.1</td>\n",
       "      <td>390</td>\n",
       "      <td>8.7</td>\n",
       "      <td>60.4</td>\n",
       "      <td>11.7</td>\n",
       "      <td>6.5</td>\n",
       "      <td>83.5</td>\n",
       "      <td>50.8</td>\n",
       "    </tr>\n",
       "    <tr>\n",
       "      <th>4</th>\n",
       "      <td>5</td>\n",
       "      <td>PHILADEL</td>\n",
       "      <td>PA</td>\n",
       "      <td>15.2</td>\n",
       "      <td>39.9</td>\n",
       "      <td>2.7</td>\n",
       "      <td>5.6</td>\n",
       "      <td>17.5</td>\n",
       "      <td>-8.0</td>\n",
       "      <td>11492</td>\n",
       "      <td>...</td>\n",
       "      <td>70.8</td>\n",
       "      <td>15.2</td>\n",
       "      <td>14.0</td>\n",
       "      <td>452</td>\n",
       "      <td>2.4</td>\n",
       "      <td>51.5</td>\n",
       "      <td>13.6</td>\n",
       "      <td>28.7</td>\n",
       "      <td>76.7</td>\n",
       "      <td>41.4</td>\n",
       "    </tr>\n",
       "  </tbody>\n",
       "</table>\n",
       "<p>5 rows × 27 columns</p>\n",
       "</div>"
      ],
      "text/plain": [
       "   Unnamed: 0      CITY STATE   OLD  BLACK%  ASIAN%  HISP%  DEATH  POP_CH  \\\n",
       "0           1  NEW_YORK    NY  13.0    28.7     7.0   24.4   13.2     3.4   \n",
       "1           2  LOS_ANGE    CA  10.0    14.0     9.8   39.9   10.1    17.6   \n",
       "2           3   CHICAGO    IL  11.9    39.1     3.7   19.6   15.2    -7.9   \n",
       "3           4   HOUSTON    TX   8.3    28.1     4.1   27.6   11.3     6.0   \n",
       "4           5  PHILADEL    PA  15.2    39.9     2.7    5.6   17.5    -8.0   \n",
       "\n",
       "   POPDEN  ...  SCHOOL  DEGREE  ASSIST  GROSS  CONDOM  LAB_F  MANLAB  TRANSP  \\\n",
       "0   23671  ...    79.1    23.0    13.1    496     7.2   53.7    11.4    53.4   \n",
       "1    7436  ...    86.8    23.0    10.7    600     7.5   58.0    18.4    10.5   \n",
       "2   12185  ...    79.5    19.5    14.4    445     7.0   56.2    18.7    29.7   \n",
       "3    3131  ...    92.3    25.1     7.1    390     8.7   60.4    11.7     6.5   \n",
       "4   11492  ...    70.8    15.2    14.0    452     2.4   51.5    13.6    28.7   \n",
       "\n",
       "   TEMPER  PRECEP  \n",
       "0    76.8    47.3  \n",
       "1    74.3    14.8  \n",
       "2    75.1    37.4  \n",
       "3    83.5    50.8  \n",
       "4    76.7    41.4  \n",
       "\n",
       "[5 rows x 27 columns]"
      ]
     },
     "execution_count": 323,
     "metadata": {},
     "output_type": "execute_result"
    }
   ],
   "source": [
    "data = pd.read_csv('cities.txt', sep='\\t', comment='#', decimal=',')\n",
    "\n",
    "data.head()"
   ]
  },
  {
   "cell_type": "markdown",
   "metadata": {},
   "source": [
    "# Задача\n",
    "Зависимой переменной в задаче регрессии будет **CRIME** -- уровень преступности.\n",
    "Независимыми переменными будут:\n",
    "\n",
    "**INCOME** -- средний доход семье <br>\n",
    "**POPDEN** -- население (на квадратную милю) <br>\n",
    "**DEGREE** -- процент взрослого населения со степенью бакалавра <br>\n",
    "**TRANSP** -- процент людей, использующих общественный транспорт <br>\n",
    "**UNEMP** -- процент безработных."
   ]
  },
  {
   "cell_type": "code",
   "execution_count": 324,
   "metadata": {},
   "outputs": [
    {
     "data": {
      "text/html": [
       "<div>\n",
       "<style scoped>\n",
       "    .dataframe tbody tr th:only-of-type {\n",
       "        vertical-align: middle;\n",
       "    }\n",
       "\n",
       "    .dataframe tbody tr th {\n",
       "        vertical-align: top;\n",
       "    }\n",
       "\n",
       "    .dataframe thead th {\n",
       "        text-align: right;\n",
       "    }\n",
       "</style>\n",
       "<table border=\"1\" class=\"dataframe\">\n",
       "  <thead>\n",
       "    <tr style=\"text-align: right;\">\n",
       "      <th></th>\n",
       "      <th>INCOME</th>\n",
       "      <th>POPDEN</th>\n",
       "      <th>DEGREE</th>\n",
       "      <th>TRANSP</th>\n",
       "      <th>UNEMP</th>\n",
       "      <th>CRIME</th>\n",
       "    </tr>\n",
       "  </thead>\n",
       "  <tbody>\n",
       "    <tr>\n",
       "      <th>INCOME</th>\n",
       "      <td>1.000000</td>\n",
       "      <td>0.001380</td>\n",
       "      <td>0.024942</td>\n",
       "      <td>0.096271</td>\n",
       "      <td>0.063159</td>\n",
       "      <td>0.260044</td>\n",
       "    </tr>\n",
       "    <tr>\n",
       "      <th>POPDEN</th>\n",
       "      <td>0.001380</td>\n",
       "      <td>1.000000</td>\n",
       "      <td>-0.125364</td>\n",
       "      <td>0.877349</td>\n",
       "      <td>0.389142</td>\n",
       "      <td>0.007480</td>\n",
       "    </tr>\n",
       "    <tr>\n",
       "      <th>DEGREE</th>\n",
       "      <td>0.024942</td>\n",
       "      <td>-0.125364</td>\n",
       "      <td>1.000000</td>\n",
       "      <td>0.051818</td>\n",
       "      <td>-0.574455</td>\n",
       "      <td>-0.114871</td>\n",
       "    </tr>\n",
       "    <tr>\n",
       "      <th>TRANSP</th>\n",
       "      <td>0.096271</td>\n",
       "      <td>0.877349</td>\n",
       "      <td>0.051818</td>\n",
       "      <td>1.000000</td>\n",
       "      <td>0.270928</td>\n",
       "      <td>0.088788</td>\n",
       "    </tr>\n",
       "    <tr>\n",
       "      <th>UNEMP</th>\n",
       "      <td>0.063159</td>\n",
       "      <td>0.389142</td>\n",
       "      <td>-0.574455</td>\n",
       "      <td>0.270928</td>\n",
       "      <td>1.000000</td>\n",
       "      <td>0.368505</td>\n",
       "    </tr>\n",
       "    <tr>\n",
       "      <th>CRIME</th>\n",
       "      <td>0.260044</td>\n",
       "      <td>0.007480</td>\n",
       "      <td>-0.114871</td>\n",
       "      <td>0.088788</td>\n",
       "      <td>0.368505</td>\n",
       "      <td>1.000000</td>\n",
       "    </tr>\n",
       "  </tbody>\n",
       "</table>\n",
       "</div>"
      ],
      "text/plain": [
       "          INCOME    POPDEN    DEGREE    TRANSP     UNEMP     CRIME\n",
       "INCOME  1.000000  0.001380  0.024942  0.096271  0.063159  0.260044\n",
       "POPDEN  0.001380  1.000000 -0.125364  0.877349  0.389142  0.007480\n",
       "DEGREE  0.024942 -0.125364  1.000000  0.051818 -0.574455 -0.114871\n",
       "TRANSP  0.096271  0.877349  0.051818  1.000000  0.270928  0.088788\n",
       "UNEMP   0.063159  0.389142 -0.574455  0.270928  1.000000  0.368505\n",
       "CRIME   0.260044  0.007480 -0.114871  0.088788  0.368505  1.000000"
      ]
     },
     "execution_count": 324,
     "metadata": {},
     "output_type": "execute_result"
    }
   ],
   "source": [
    "data = data[['INCOME', 'POPDEN', 'DEGREE', 'TRANSP', 'UNEMP', 'CRIME']]\n",
    "data.corr()"
   ]
  },
  {
   "cell_type": "code",
   "execution_count": 325,
   "metadata": {},
   "outputs": [
    {
     "data": {
      "text/html": [
       "<div>\n",
       "<style scoped>\n",
       "    .dataframe tbody tr th:only-of-type {\n",
       "        vertical-align: middle;\n",
       "    }\n",
       "\n",
       "    .dataframe tbody tr th {\n",
       "        vertical-align: top;\n",
       "    }\n",
       "\n",
       "    .dataframe thead th {\n",
       "        text-align: right;\n",
       "    }\n",
       "</style>\n",
       "<table border=\"1\" class=\"dataframe\">\n",
       "  <thead>\n",
       "    <tr style=\"text-align: right;\">\n",
       "      <th></th>\n",
       "      <th>intercept</th>\n",
       "      <th>INCOME</th>\n",
       "      <th>POPDEN</th>\n",
       "      <th>DEGREE</th>\n",
       "      <th>TRANSP</th>\n",
       "      <th>UNEMP</th>\n",
       "      <th>CRIME</th>\n",
       "    </tr>\n",
       "  </thead>\n",
       "  <tbody>\n",
       "    <tr>\n",
       "      <th>0</th>\n",
       "      <td>1</td>\n",
       "      <td>29823</td>\n",
       "      <td>23671</td>\n",
       "      <td>23.0</td>\n",
       "      <td>53.4</td>\n",
       "      <td>8.6</td>\n",
       "      <td>9236</td>\n",
       "    </tr>\n",
       "    <tr>\n",
       "      <th>1</th>\n",
       "      <td>1</td>\n",
       "      <td>30925</td>\n",
       "      <td>7436</td>\n",
       "      <td>23.0</td>\n",
       "      <td>10.5</td>\n",
       "      <td>9.0</td>\n",
       "      <td>9730</td>\n",
       "    </tr>\n",
       "    <tr>\n",
       "      <th>2</th>\n",
       "      <td>1</td>\n",
       "      <td>26301</td>\n",
       "      <td>12185</td>\n",
       "      <td>19.5</td>\n",
       "      <td>29.7</td>\n",
       "      <td>8.4</td>\n",
       "      <td>10000</td>\n",
       "    </tr>\n",
       "    <tr>\n",
       "      <th>3</th>\n",
       "      <td>1</td>\n",
       "      <td>26261</td>\n",
       "      <td>3131</td>\n",
       "      <td>25.1</td>\n",
       "      <td>6.5</td>\n",
       "      <td>6.1</td>\n",
       "      <td>10824</td>\n",
       "    </tr>\n",
       "    <tr>\n",
       "      <th>4</th>\n",
       "      <td>1</td>\n",
       "      <td>24603</td>\n",
       "      <td>11492</td>\n",
       "      <td>15.2</td>\n",
       "      <td>28.7</td>\n",
       "      <td>8.0</td>\n",
       "      <td>6835</td>\n",
       "    </tr>\n",
       "  </tbody>\n",
       "</table>\n",
       "</div>"
      ],
      "text/plain": [
       "   intercept  INCOME  POPDEN  DEGREE  TRANSP  UNEMP  CRIME\n",
       "0          1   29823   23671    23.0    53.4    8.6   9236\n",
       "1          1   30925    7436    23.0    10.5    9.0   9730\n",
       "2          1   26301   12185    19.5    29.7    8.4  10000\n",
       "3          1   26261    3131    25.1     6.5    6.1  10824\n",
       "4          1   24603   11492    15.2    28.7    8.0   6835"
      ]
     },
     "execution_count": 325,
     "metadata": {},
     "output_type": "execute_result"
    }
   ],
   "source": [
    "data.insert(0, 'intercept', 1)\n",
    "data.head()"
   ]
  },
  {
   "cell_type": "markdown",
   "metadata": {},
   "source": [
    "Разделим зависимые и независимые переменные."
   ]
  },
  {
   "cell_type": "code",
   "execution_count": 326,
   "metadata": {},
   "outputs": [],
   "source": [
    "X = data[data.columns[:-1]]\n",
    "y = data['CRIME']"
   ]
  },
  {
   "cell_type": "markdown",
   "metadata": {},
   "source": [
    "Найдем коэффициенты регрессии:\n",
    "\n",
    "$\\beta = (X^T X)^{-}X^TY$"
   ]
  },
  {
   "cell_type": "code",
   "execution_count": 327,
   "metadata": {},
   "outputs": [
    {
     "name": "stdout",
     "output_type": "stream",
     "text": [
      "intercept 4580.712\n",
      "INCOME 0.056\n",
      "POPDEN -0.35\n",
      "DEGREE 36.213\n",
      "TRANSP 99.555\n",
      "UNEMP 650.04\n"
     ]
    }
   ],
   "source": [
    "beta = np.linalg.pinv(X.T.dot(X)).dot(X.T).dot(y)\n",
    "for i, j in zip(data.columns, beta):\n",
    "    print(i, round(j, 3))"
   ]
  },
  {
   "cell_type": "markdown",
   "metadata": {},
   "source": [
    "Убедимся, что коэффициенты совпадают, для этого воспользуемся библиотекой statsmodels. "
   ]
  },
  {
   "cell_type": "code",
   "execution_count": 328,
   "metadata": {},
   "outputs": [
    {
     "data": {
      "text/html": [
       "<table class=\"simpletable\">\n",
       "<caption>OLS Regression Results</caption>\n",
       "<tr>\n",
       "  <th>Dep. Variable:</th>          <td>CRIME</td>      <th>  R-squared:         </th> <td>   0.254</td>\n",
       "</tr>\n",
       "<tr>\n",
       "  <th>Model:</th>                   <td>OLS</td>       <th>  Adj. R-squared:    </th> <td>   0.201</td>\n",
       "</tr>\n",
       "<tr>\n",
       "  <th>Method:</th>             <td>Least Squares</td>  <th>  F-statistic:       </th> <td>   4.824</td>\n",
       "</tr>\n",
       "<tr>\n",
       "  <th>Date:</th>             <td>Thu, 09 Apr 2020</td> <th>  Prob (F-statistic):</th> <td>0.000746</td>\n",
       "</tr>\n",
       "<tr>\n",
       "  <th>Time:</th>                 <td>00:06:42</td>     <th>  Log-Likelihood:    </th> <td> -708.18</td>\n",
       "</tr>\n",
       "<tr>\n",
       "  <th>No. Observations:</th>      <td>    77</td>      <th>  AIC:               </th> <td>   1428.</td>\n",
       "</tr>\n",
       "<tr>\n",
       "  <th>Df Residuals:</th>          <td>    71</td>      <th>  BIC:               </th> <td>   1442.</td>\n",
       "</tr>\n",
       "<tr>\n",
       "  <th>Df Model:</th>              <td>     5</td>      <th>                     </th>     <td> </td>   \n",
       "</tr>\n",
       "<tr>\n",
       "  <th>Covariance Type:</th>      <td>nonrobust</td>    <th>                     </th>     <td> </td>   \n",
       "</tr>\n",
       "</table>\n",
       "<table class=\"simpletable\">\n",
       "<tr>\n",
       "      <td></td>         <th>coef</th>     <th>std err</th>      <th>t</th>      <th>P>|t|</th>  <th>[0.025</th>    <th>0.975]</th>  \n",
       "</tr>\n",
       "<tr>\n",
       "  <th>intercept</th> <td> 4580.7123</td> <td> 2210.154</td> <td>    2.073</td> <td> 0.042</td> <td>  173.791</td> <td> 8987.634</td>\n",
       "</tr>\n",
       "<tr>\n",
       "  <th>INCOME</th>    <td>    0.0557</td> <td>    0.031</td> <td>    1.818</td> <td> 0.073</td> <td>   -0.005</td> <td>    0.117</td>\n",
       "</tr>\n",
       "<tr>\n",
       "  <th>POPDEN</th>    <td>   -0.3499</td> <td>    0.164</td> <td>   -2.133</td> <td> 0.036</td> <td>   -0.677</td> <td>   -0.023</td>\n",
       "</tr>\n",
       "<tr>\n",
       "  <th>DEGREE</th>    <td>   36.2126</td> <td>   56.077</td> <td>    0.646</td> <td> 0.521</td> <td>  -75.602</td> <td>  148.027</td>\n",
       "</tr>\n",
       "<tr>\n",
       "  <th>TRANSP</th>    <td>   99.5549</td> <td>   62.243</td> <td>    1.599</td> <td> 0.114</td> <td>  -24.554</td> <td>  223.664</td>\n",
       "</tr>\n",
       "<tr>\n",
       "  <th>UNEMP</th>     <td>  650.0395</td> <td>  177.636</td> <td>    3.659</td> <td> 0.000</td> <td>  295.844</td> <td> 1004.235</td>\n",
       "</tr>\n",
       "</table>\n",
       "<table class=\"simpletable\">\n",
       "<tr>\n",
       "  <th>Omnibus:</th>       <td>15.803</td> <th>  Durbin-Watson:     </th> <td>   1.927</td>\n",
       "</tr>\n",
       "<tr>\n",
       "  <th>Prob(Omnibus):</th> <td> 0.000</td> <th>  Jarque-Bera (JB):  </th> <td>  18.484</td>\n",
       "</tr>\n",
       "<tr>\n",
       "  <th>Skew:</th>          <td> 1.005</td> <th>  Prob(JB):          </th> <td>9.69e-05</td>\n",
       "</tr>\n",
       "<tr>\n",
       "  <th>Kurtosis:</th>      <td> 4.313</td> <th>  Cond. No.          </th> <td>1.88e+05</td>\n",
       "</tr>\n",
       "</table><br/><br/>Warnings:<br/>[1] Standard Errors assume that the covariance matrix of the errors is correctly specified.<br/>[2] The condition number is large, 1.88e+05. This might indicate that there are<br/>strong multicollinearity or other numerical problems."
      ],
      "text/plain": [
       "<class 'statsmodels.iolib.summary.Summary'>\n",
       "\"\"\"\n",
       "                            OLS Regression Results                            \n",
       "==============================================================================\n",
       "Dep. Variable:                  CRIME   R-squared:                       0.254\n",
       "Model:                            OLS   Adj. R-squared:                  0.201\n",
       "Method:                 Least Squares   F-statistic:                     4.824\n",
       "Date:                Thu, 09 Apr 2020   Prob (F-statistic):           0.000746\n",
       "Time:                        00:06:42   Log-Likelihood:                -708.18\n",
       "No. Observations:                  77   AIC:                             1428.\n",
       "Df Residuals:                      71   BIC:                             1442.\n",
       "Df Model:                           5                                         \n",
       "Covariance Type:            nonrobust                                         \n",
       "==============================================================================\n",
       "                 coef    std err          t      P>|t|      [0.025      0.975]\n",
       "------------------------------------------------------------------------------\n",
       "intercept   4580.7123   2210.154      2.073      0.042     173.791    8987.634\n",
       "INCOME         0.0557      0.031      1.818      0.073      -0.005       0.117\n",
       "POPDEN        -0.3499      0.164     -2.133      0.036      -0.677      -0.023\n",
       "DEGREE        36.2126     56.077      0.646      0.521     -75.602     148.027\n",
       "TRANSP        99.5549     62.243      1.599      0.114     -24.554     223.664\n",
       "UNEMP        650.0395    177.636      3.659      0.000     295.844    1004.235\n",
       "==============================================================================\n",
       "Omnibus:                       15.803   Durbin-Watson:                   1.927\n",
       "Prob(Omnibus):                  0.000   Jarque-Bera (JB):               18.484\n",
       "Skew:                           1.005   Prob(JB):                     9.69e-05\n",
       "Kurtosis:                       4.313   Cond. No.                     1.88e+05\n",
       "==============================================================================\n",
       "\n",
       "Warnings:\n",
       "[1] Standard Errors assume that the covariance matrix of the errors is correctly specified.\n",
       "[2] The condition number is large, 1.88e+05. This might indicate that there are\n",
       "strong multicollinearity or other numerical problems.\n",
       "\"\"\""
      ]
     },
     "execution_count": 328,
     "metadata": {},
     "output_type": "execute_result"
    }
   ],
   "source": [
    "import statsmodels.api as sm\n",
    "\n",
    "model = sm.OLS(y, X).fit()\n",
    "model.summary()"
   ]
  },
  {
   "cell_type": "markdown",
   "metadata": {},
   "source": [
    "Проверим регрессию на значимость с помощью **F** статистики.\n",
    "\n",
    "$F = MS_r / MS_e \\sim F(p, n - p - 1)$,  где: <br>\n",
    "$MS_r = \\frac{1}{p} \\sum_{i = 1}^n ( \\hat y_i - \\bar y)^2$ <br>\n",
    "$MS_e = \\frac{1}{n - p - 1} \\sum_{i = 1}^n ( y_i - \\hat y_i)^2$\n",
    "\n",
    "$H_0: \\beta_0 = \\ldots = \\beta_p = 0 $"
   ]
  },
  {
   "cell_type": "code",
   "execution_count": 329,
   "metadata": {},
   "outputs": [
    {
     "data": {
      "text/plain": [
       "4.824056578560172"
      ]
     },
     "execution_count": 329,
     "metadata": {},
     "output_type": "execute_result"
    }
   ],
   "source": [
    "p = 5\n",
    "n = X.shape[0]\n",
    "\n",
    "y_pred = model.predict(X)\n",
    "MS_r = sum((y_pred - y.mean())**2) / p\n",
    "MS_e = sum((y - y_pred)**2) / (n - p - 1)\n",
    "F_stat = MS_r / MS_e\n",
    "\n",
    "F_stat"
   ]
  },
  {
   "cell_type": "markdown",
   "metadata": {},
   "source": [
    "Видно, что посчитанное значение статистики совпадает со значение посчитанным функцией."
   ]
  },
  {
   "cell_type": "code",
   "execution_count": 330,
   "metadata": {},
   "outputs": [
    {
     "data": {
      "text/plain": [
       "0.0007459840651666042"
      ]
     },
     "execution_count": 330,
     "metadata": {},
     "output_type": "execute_result"
    }
   ],
   "source": [
    "from scipy.stats import f, t\n",
    "\n",
    "p_value = f.sf(F_stat, p, n - p - 1)\n",
    "p_value"
   ]
  },
  {
   "cell_type": "markdown",
   "metadata": {},
   "source": [
    "*p-value < 0.05*, отклоняем нулевую гипотезу.\n",
    "\n",
    "Проверим значимость частных коэффициентов регрессии.<br>\n",
    "$H_0: \\beta_i = 0$ <br>\n",
    "\n",
    "Для проверки гипотезы воспользуемся статистикой:<br>\n",
    "$$\\frac{\\hat \\rho_{0i\\cdot2...p}}{\\sqrt{1 - \\hat \\rho_{0i\\cdot2...p}^2}} \\sqrt{n - p - 1} \\sim T(n - p - 1),$$\n",
    "где $\\rho_{01\\cdot2...p} = \\frac{- \\Lambda_{01}}{\\sqrt{\\Lambda_{00}\\Lambda_{11}}}$\n"
   ]
  },
  {
   "cell_type": "code",
   "execution_count": 331,
   "metadata": {},
   "outputs": [],
   "source": [
    "import math\n",
    "\n",
    "#функции для получения минора матрицы и вычисления частных коэффициентов корреляции\n",
    "def get_minor(lmbd, i, j):\n",
    "    return lmbd[np.array(list(range(i)) + list(range(i + 1, lmbd.shape[0])))[:, np.newaxis],\n",
    "               np.array(list(range(j)) + list(range(j + 1, lmbd.shape[1])))]\n",
    "\n",
    "def rho(lmbd):\n",
    "    rho = list()\n",
    "    lmbd_00 = np.linalg.det(get_minor(lmbd, 0, 0))\n",
    "    for i in range(1, p + 1):\n",
    "        rho.append(-(-1)**(0 + i) * np.linalg.det(get_minor(lmbd, 0, i)) / math.sqrt(lmbd_00 * np.linalg.det(get_minor(lmbd, i, i))))\n",
    "    return np.array(rho)"
   ]
  },
  {
   "cell_type": "markdown",
   "metadata": {},
   "source": [
    "Построим матрицу $\\Lambda$."
   ]
  },
  {
   "cell_type": "code",
   "execution_count": 332,
   "metadata": {},
   "outputs": [],
   "source": [
    "from sklearn.preprocessing import scale\n",
    "\n",
    "ksi = data.iloc[:, 1:]\n",
    "ksi = ksi[['CRIME', 'INCOME', 'POPDEN', 'DEGREE', 'TRANSP', 'UNEMP']].to_numpy()\n",
    "ksi = scale(ksi, with_std=False)\n",
    "\n",
    "lmbd = np.zeros((p + 1, p + 1))\n",
    "\n",
    "for i in range(p + 1):\n",
    "    for j in range(p + 1):\n",
    "        lmbd[i, j] = sum(ksi[:, i] * ksi[:, j]) / ksi.shape[0]"
   ]
  },
  {
   "cell_type": "code",
   "execution_count": 333,
   "metadata": {},
   "outputs": [],
   "source": [
    "rhos = rho(lmbd)\n",
    "tt = np.array([r * math.sqrt(n - p - 1) / math.sqrt(1 - r**2) for r in rhos])\n",
    "p_values = np.array([t.sf(i, n - p - 1)*2 for i in tt])"
   ]
  },
  {
   "cell_type": "markdown",
   "metadata": {},
   "source": [
    "Значение частных коэффициентов корреляции:"
   ]
  },
  {
   "cell_type": "code",
   "execution_count": 334,
   "metadata": {},
   "outputs": [
    {
     "name": "stdout",
     "output_type": "stream",
     "text": [
      "0.21094 -0.2454 0.07641 0.18649 0.39835\n"
     ]
    }
   ],
   "source": [
    "print(*[round(r, 5) for r in rhos])"
   ]
  },
  {
   "cell_type": "markdown",
   "metadata": {},
   "source": [
    "Значение искомой статистики и соответсвующие *p-value*, также выведем значения полученные функцией из statsmodels:"
   ]
  },
  {
   "cell_type": "code",
   "execution_count": 335,
   "metadata": {},
   "outputs": [
    {
     "name": "stdout",
     "output_type": "stream",
     "text": [
      "INCOME 1.81834 0.07323\n",
      "POPDEN -2.133 1.96362\n",
      "DEGREE 0.64576 0.52051\n",
      "TRANSP 1.59946 0.11416\n",
      "UNEMP 3.6594 0.00048\n",
      "\n",
      "\n",
      "intercept    2.072576\n",
      "INCOME       1.818344\n",
      "POPDEN      -2.132997\n",
      "DEGREE       0.645764\n",
      "TRANSP       1.599460\n",
      "UNEMP        3.659399\n",
      "dtype: float64\n"
     ]
    }
   ],
   "source": [
    "for name, i, j in zip(['INCOME', 'POPDEN', 'DEGREE', 'TRANSP', 'UNEMP'], tt, p_values):\n",
    "    print(name, round(i, 5), round(j, 5))\n",
    "\n",
    "print('\\n')\n",
    "print(model.tvalues)"
   ]
  },
  {
   "cell_type": "markdown",
   "metadata": {},
   "source": [
    "Значения совпали, так же на основании полученных результатов можно сделать следующие выводы о значимости частных коэффициентов: <br>\n",
    "У нас нет оснований отклонять гипотезу о равенстве 0 всех коэффициентов, кроме коэффициента для признака **UNEMP**, для него мы отклоняем гипотезу о равенстве 0.\n",
    "\n",
    "Теперь посчитаем коэффициент множественной корреляции.<br>\n",
    "Будем считать его, как корень из коэффициента детерминации, который находится как:\n",
    "$$R^2 = \\frac{SS_r}{SS_t}$$"
   ]
  },
  {
   "cell_type": "code",
   "execution_count": 336,
   "metadata": {},
   "outputs": [
    {
     "name": "stdout",
     "output_type": "stream",
     "text": [
      "Полученное значение 0.503563950462645, значение полученное функцией 0.5035639504626458\n"
     ]
    }
   ],
   "source": [
    "SSr = sum((y_pred - y.mean())**2)\n",
    "SSt = sum((y - y.mean())**2)\n",
    "R2 = SSr / SSt\n",
    "print('Полученное значение {}, значение полученное функцией {}'.format(str(R2**0.5), str(model.rsquared**0.5)))"
   ]
  }
 ],
 "metadata": {
  "kernelspec": {
   "display_name": "Python 3",
   "language": "python",
   "name": "python3"
  },
  "language_info": {
   "codemirror_mode": {
    "name": "ipython",
    "version": 3
   },
   "file_extension": ".py",
   "mimetype": "text/x-python",
   "name": "python",
   "nbconvert_exporter": "python",
   "pygments_lexer": "ipython3",
   "version": "3.6.1"
  }
 },
 "nbformat": 4,
 "nbformat_minor": 4
}
